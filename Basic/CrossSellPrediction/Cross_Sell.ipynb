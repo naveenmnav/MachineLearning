{
 "cells": [
  {
   "cell_type": "markdown",
   "id": "61a48817",
   "metadata": {},
   "source": [
    "<h1><center>Cross Sell Prediction</center><h1> "
   ]
  },
  {
   "cell_type": "markdown",
   "id": "bc1834d6",
   "metadata": {},
   "source": [
    "<h1><center><img src=\"https://raw.githubusercontent.com/naveenmnav/MachineLearning/main/Basic/CrossSellPrediction/Carewell-insurance-service-logo.png\"/></center></h1>"
   ]
  },
  {
   "cell_type": "markdown",
   "id": "d16fc75b",
   "metadata": {},
   "source": [
    "---\n",
    "\n",
    "# **Table of Contents**\n",
    "\n",
    "---\n",
    "\n",
    "1. [**Introduction**](#Section1)<br>\n",
    "2. [**Problem Statement**](#Section2)<br>\n",
    "3. [**Installing & Importing Libraries**](#Section3)<br>\n",
    "4. [**Data Acquisition & Description**](#Section4)<br>\n",
    "\n",
    "  - **4.1** [**Data Acquisition**](#Section41)\n",
    "  - **4.2** [**Data Description**](#Section42)\n",
    "  - **4.3** [**Data Information**](#Section43)\n",
    "\n",
    "5. [**Data Pre-Processing**](#Section5)<br>\n",
    " \n",
    "  - **5.1** [**Handling of Missing Data**](#Section51)\n",
    "  - **5.2** [**Handling of Redundant Data**](#Section52)\n",
    "  - **5.3** [**Handling of Inconsistent Data**](#Section53)\n",
    "\n",
    "6. [**Exploratory Data Analysis**](#Section6)<br>\n",
    "\n",
    "7. [**Actionable Insights**](#Section7)<br>\n",
    "\n",
    "8. [**Linear Regression**](#Section8)<br>\n",
    "\n",
    "  - **8.1** [**Linear Regression Assumptions**](#Section81)<br>\n",
    "  - **8.2** [**Data Preparation for ML**](#Section82)<br>\n",
    "  - **8.3** [**Train Test Split**](#Section83)<br>\n",
    "  - **8.4** [**Scaling**](#Section84)<br>\n",
    "  - **8.5** [**Linear Regression**](#Section85)<br>\n",
    "  - **8.6** [**Using the Model for Prediction**](#Section86)<br>\n",
    " \n",
    "9. [**Model Evaluation**](#Section9)<br>\n",
    "\n",
    "10. [**Visualize the Prediction**](#Section10)<br>\n",
    "\n",
    "11. [**Analysis and Prediction of Unseen Test Data**](#Section11)<br>\n",
    "\n",
    "---"
   ]
  },
  {
   "cell_type": "markdown",
   "id": "d915dd5f",
   "metadata": {},
   "source": [
    "---\n",
    "<a name = Section1></a>\n",
    "# **1. Introduction**\n",
    "---"
   ]
  },
  {
   "cell_type": "markdown",
   "id": "063fe4ba",
   "metadata": {},
   "source": [
    "- Carewell Insurance is into Providing General Insurance Services. Over the years the organization has transformed from the traditional manual way of doing the business to a more technologically advanced method of doing the business.\n",
    "- They are a leading Insurance Company with 1 million policyholders. They provide insurance in Life Insurance, Motor insurance, Health insurance, Travel insurance, Property insurance, Mobile insurance.\n",
    "- They want to build a model to predict whether the current policyholders (customers) from the past year will also be interested in additional Vehicle Insurance provided by the company.\n",
    "They want to automate the prediction process based on their policyholder’s collected data."
   ]
  },
  {
   "cell_type": "markdown",
   "id": "16f59443",
   "metadata": {},
   "source": [
    "---\n",
    "<a name = Section2></a>\n",
    "# **2. Problem Statement**\n",
    "---"
   ]
  },
  {
   "cell_type": "markdown",
   "id": "8a1e33a9",
   "metadata": {},
   "source": [
    "- Determining whether a policyholder who already has a policy from the company will be interested in additional Vehicle Insurance policies is a manual task.\n",
    "- It solely depends upon the policyholder’s confirmation and that consumes a lot of time and resources.\n",
    "- Designing a prediction model to predict whether a policyholder will be interested or not can be helpful. However, this turns out to be a bit trickier.\n",
    "- Currently, the Company is keeping track of the process by contacting each policyholder and getting their feedback."
   ]
  },
  {
   "cell_type": "markdown",
   "id": "03d451a6",
   "metadata": {},
   "source": [
    "---\n",
    "<a id = Section3></a>\n",
    "# **3. Installing & Importing Libraries**\n",
    "---\n",
    "\n",
    "\n",
    "- This section is emphasised on installing and importing the necessary libraries that will be required.\n",
    "\n"
   ]
  },
  {
   "cell_type": "code",
   "execution_count": 1,
   "id": "9a25ebce",
   "metadata": {},
   "outputs": [],
   "source": [
    "import numpy as np\n",
    "import pandas as pd\n",
    "import matplotlib.pyplot as plt\n",
    "import seaborn as sns\n",
    "%matplotlib inline\n",
    "import warnings\n",
    "warnings.filterwarnings('ignore')  "
   ]
  },
  {
   "cell_type": "markdown",
   "id": "45a4fc3e",
   "metadata": {},
   "source": [
    "\n",
    "<a name = Section4></a>\n",
    "# **4. Data Acquisition & Description**\n",
    "\n"
   ]
  },
  {
   "cell_type": "markdown",
   "id": "7c84aeba",
   "metadata": {},
   "source": [
    "This section is emphasised on the accquiring the data and obtain some descriptive information out of it.\n",
    "\n",
    "This database was created to identify whether a policyholder will be interested in Vehicle Insurance Policy based on the policyholder’s information.\n",
    "\n",
    "The column Response is also present in the dataset which has two values 1 and 0 which corresponds to positive and negative responses from policyholders.\n",
    "\n",
    "The dataset is divided into two parts: Train, and Test sets.\n",
    "\n",
    " **Train Set:**\n",
    "- The train set contains 300000 rows and 12columns.\n",
    "- The last column Response is the target variable.\n",
    "\n",
    "**Test Set:**\n",
    "- The test set contains 81109 rows and 11 columns.\n",
    "- The test set doesn’t contain the Response column.\n",
    "- It needs to be predicted for the test set.\n",
    "\n",
    "\n",
    "- The Train Set parameters are,\n",
    "\n",
    "|Id|Parameter Name|Description|\n",
    "|:--|:--|:--|\n",
    "|01 | Id                   | Unique ID for the customer |\n",
    "|02 | Gender               | Gender of the customer.|\n",
    "|03 | Age                  | Age of the customer |\n",
    "|04 | Driving_License      | 0: Customer does not have DL, 1: Customer already has DL Region_Code: Unique code for the region of the customer |\n",
    "|05 | Previously_Insured   | 1: Customer already has Vehicle Insurance, 0: Customer doesn't have Vehicle Insurance |\n",
    "|06 | Vehicle_Age          | Age of the Vehicle |\n",
    "|07 | Vehicle_Damage       | 1 corresponds to Customer got his/her vehicle damaged in the past. 0: Customer didn't get his/her vehicle damaged in the past |\n",
    "|08 | Annual_Premium       | The amount customer needs to pay as a premium in the year |\n",
    "|09 | PolicySalesChannel   | Anonymized Code for the channel of outreaching to the customer ie. Different Agents, Over Mail, Over Phone, In Person, etc |\n",
    "|10 | Vintage              | Location of engine in car. |\n",
    "|11 | Region_Code          | Region Code |\n",
    "|12 | Response             | 1: Customer is interested, 0: Customer is not interested |\n",
    "\n",
    "\n",
    "- The Test Set parameters are,\n",
    "\n",
    "|Id|Parameter Name|Description|\n",
    "|:--|:--|:--|\n",
    "|01 | Id                   | Unique ID for the customer |\n",
    "|02 | Gender               | Gender of the customer.|\n",
    "|03 | Age                  | Age of the customer |\n",
    "|04 | Driving_License      | 0: Customer does not have DL, 1: Customer already has DL Region_Code: Unique code for the region of the customer |\n",
    "|05 | Previously_Insured   | 1: Customer already has Vehicle Insurance, 0: Customer doesn't have Vehicle Insurance |\n",
    "|06 | Vehicle_Age          | Age of the Vehicle |\n",
    "|07 | Vehicle_Damage       | 1 corresponds to Customer got his/her vehicle damaged in the past. 0: Customer didn't get his/her vehicle damaged in the past |\n",
    "|08 | Annual_Premium       | The amount customer needs to pay as a premium in the year |\n",
    "|09 | PolicySalesChannel   | Anonymized Code for the channel of outreaching to the customer ie. Different Agents, Over Mail, Over Phone, In Person, etc |\n",
    "|10 | Vintage              | Location of engine in car. |\n",
    "|11 | Region_Code          | Region Code |\n"
   ]
  },
  {
   "cell_type": "markdown",
   "id": "566044ae",
   "metadata": {},
   "source": [
    "<a name = Section41></a>\n",
    "### 4.1 Data Acquisition\n",
    "\n",
    "\n",
    " "
   ]
  },
  {
   "cell_type": "code",
   "execution_count": 2,
   "id": "47122f00",
   "metadata": {},
   "outputs": [],
   "source": [
    "dataset = pd.read_csv(\"https://raw.githubusercontent.com/naveenmnav/MachineLearning/main/Basic/CrossSellPrediction/train_data.csv\")"
   ]
  },
  {
   "cell_type": "code",
   "execution_count": 3,
   "id": "07014e9a",
   "metadata": {},
   "outputs": [
    {
     "data": {
      "text/html": [
       "<div>\n",
       "<style scoped>\n",
       "    .dataframe tbody tr th:only-of-type {\n",
       "        vertical-align: middle;\n",
       "    }\n",
       "\n",
       "    .dataframe tbody tr th {\n",
       "        vertical-align: top;\n",
       "    }\n",
       "\n",
       "    .dataframe thead th {\n",
       "        text-align: right;\n",
       "    }\n",
       "</style>\n",
       "<table border=\"1\" class=\"dataframe\">\n",
       "  <thead>\n",
       "    <tr style=\"text-align: right;\">\n",
       "      <th></th>\n",
       "      <th>id</th>\n",
       "      <th>Gender</th>\n",
       "      <th>Age</th>\n",
       "      <th>Driving_License</th>\n",
       "      <th>Region_Code</th>\n",
       "      <th>Previously_Insured</th>\n",
       "      <th>Vehicle_Age</th>\n",
       "      <th>Vehicle_Damage</th>\n",
       "      <th>Annual_Premium</th>\n",
       "      <th>Policy_Sales_Channel</th>\n",
       "      <th>Vintage</th>\n",
       "      <th>Response</th>\n",
       "    </tr>\n",
       "  </thead>\n",
       "  <tbody>\n",
       "    <tr>\n",
       "      <th>0</th>\n",
       "      <td>1</td>\n",
       "      <td>Male</td>\n",
       "      <td>44</td>\n",
       "      <td>1</td>\n",
       "      <td>28.0</td>\n",
       "      <td>0</td>\n",
       "      <td>&gt; 2 Years</td>\n",
       "      <td>Yes</td>\n",
       "      <td>40454.0</td>\n",
       "      <td>26.0</td>\n",
       "      <td>217</td>\n",
       "      <td>1</td>\n",
       "    </tr>\n",
       "    <tr>\n",
       "      <th>1</th>\n",
       "      <td>2</td>\n",
       "      <td>Male</td>\n",
       "      <td>76</td>\n",
       "      <td>1</td>\n",
       "      <td>3.0</td>\n",
       "      <td>0</td>\n",
       "      <td>1-2 Year</td>\n",
       "      <td>No</td>\n",
       "      <td>33536.0</td>\n",
       "      <td>26.0</td>\n",
       "      <td>183</td>\n",
       "      <td>0</td>\n",
       "    </tr>\n",
       "    <tr>\n",
       "      <th>2</th>\n",
       "      <td>3</td>\n",
       "      <td>Male</td>\n",
       "      <td>47</td>\n",
       "      <td>1</td>\n",
       "      <td>28.0</td>\n",
       "      <td>0</td>\n",
       "      <td>&gt; 2 Years</td>\n",
       "      <td>Yes</td>\n",
       "      <td>38294.0</td>\n",
       "      <td>26.0</td>\n",
       "      <td>27</td>\n",
       "      <td>1</td>\n",
       "    </tr>\n",
       "    <tr>\n",
       "      <th>3</th>\n",
       "      <td>4</td>\n",
       "      <td>Male</td>\n",
       "      <td>21</td>\n",
       "      <td>1</td>\n",
       "      <td>11.0</td>\n",
       "      <td>1</td>\n",
       "      <td>&lt; 1 Year</td>\n",
       "      <td>No</td>\n",
       "      <td>28619.0</td>\n",
       "      <td>152.0</td>\n",
       "      <td>203</td>\n",
       "      <td>0</td>\n",
       "    </tr>\n",
       "    <tr>\n",
       "      <th>4</th>\n",
       "      <td>5</td>\n",
       "      <td>Female</td>\n",
       "      <td>29</td>\n",
       "      <td>1</td>\n",
       "      <td>41.0</td>\n",
       "      <td>1</td>\n",
       "      <td>&lt; 1 Year</td>\n",
       "      <td>No</td>\n",
       "      <td>27496.0</td>\n",
       "      <td>152.0</td>\n",
       "      <td>39</td>\n",
       "      <td>0</td>\n",
       "    </tr>\n",
       "  </tbody>\n",
       "</table>\n",
       "</div>"
      ],
      "text/plain": [
       "   id  Gender  Age  Driving_License  Region_Code  Previously_Insured  \\\n",
       "0   1    Male   44                1         28.0                   0   \n",
       "1   2    Male   76                1          3.0                   0   \n",
       "2   3    Male   47                1         28.0                   0   \n",
       "3   4    Male   21                1         11.0                   1   \n",
       "4   5  Female   29                1         41.0                   1   \n",
       "\n",
       "  Vehicle_Age Vehicle_Damage  Annual_Premium  Policy_Sales_Channel  Vintage  \\\n",
       "0   > 2 Years            Yes         40454.0                  26.0      217   \n",
       "1    1-2 Year             No         33536.0                  26.0      183   \n",
       "2   > 2 Years            Yes         38294.0                  26.0       27   \n",
       "3    < 1 Year             No         28619.0                 152.0      203   \n",
       "4    < 1 Year             No         27496.0                 152.0       39   \n",
       "\n",
       "   Response  \n",
       "0         1  \n",
       "1         0  \n",
       "2         1  \n",
       "3         0  \n",
       "4         0  "
      ]
     },
     "execution_count": 3,
     "metadata": {},
     "output_type": "execute_result"
    }
   ],
   "source": [
    "dataset.head()"
   ]
  },
  {
   "cell_type": "markdown",
   "id": "40b4d2cd",
   "metadata": {},
   "source": [
    "**Setting id as index column**"
   ]
  },
  {
   "cell_type": "code",
   "execution_count": 4,
   "id": "7313e6d0",
   "metadata": {},
   "outputs": [],
   "source": [
    "#dataset = dataset.set_index(keys = \"id\")"
   ]
  },
  {
   "cell_type": "code",
   "execution_count": 5,
   "id": "aa2f90d0",
   "metadata": {},
   "outputs": [
    {
     "data": {
      "text/html": [
       "<div>\n",
       "<style scoped>\n",
       "    .dataframe tbody tr th:only-of-type {\n",
       "        vertical-align: middle;\n",
       "    }\n",
       "\n",
       "    .dataframe tbody tr th {\n",
       "        vertical-align: top;\n",
       "    }\n",
       "\n",
       "    .dataframe thead th {\n",
       "        text-align: right;\n",
       "    }\n",
       "</style>\n",
       "<table border=\"1\" class=\"dataframe\">\n",
       "  <thead>\n",
       "    <tr style=\"text-align: right;\">\n",
       "      <th></th>\n",
       "      <th>id</th>\n",
       "      <th>Gender</th>\n",
       "      <th>Age</th>\n",
       "      <th>Driving_License</th>\n",
       "      <th>Region_Code</th>\n",
       "      <th>Previously_Insured</th>\n",
       "      <th>Vehicle_Age</th>\n",
       "      <th>Vehicle_Damage</th>\n",
       "      <th>Annual_Premium</th>\n",
       "      <th>Policy_Sales_Channel</th>\n",
       "      <th>Vintage</th>\n",
       "      <th>Response</th>\n",
       "    </tr>\n",
       "  </thead>\n",
       "  <tbody>\n",
       "    <tr>\n",
       "      <th>0</th>\n",
       "      <td>1</td>\n",
       "      <td>Male</td>\n",
       "      <td>44</td>\n",
       "      <td>1</td>\n",
       "      <td>28.0</td>\n",
       "      <td>0</td>\n",
       "      <td>&gt; 2 Years</td>\n",
       "      <td>Yes</td>\n",
       "      <td>40454.0</td>\n",
       "      <td>26.0</td>\n",
       "      <td>217</td>\n",
       "      <td>1</td>\n",
       "    </tr>\n",
       "    <tr>\n",
       "      <th>1</th>\n",
       "      <td>2</td>\n",
       "      <td>Male</td>\n",
       "      <td>76</td>\n",
       "      <td>1</td>\n",
       "      <td>3.0</td>\n",
       "      <td>0</td>\n",
       "      <td>1-2 Year</td>\n",
       "      <td>No</td>\n",
       "      <td>33536.0</td>\n",
       "      <td>26.0</td>\n",
       "      <td>183</td>\n",
       "      <td>0</td>\n",
       "    </tr>\n",
       "    <tr>\n",
       "      <th>2</th>\n",
       "      <td>3</td>\n",
       "      <td>Male</td>\n",
       "      <td>47</td>\n",
       "      <td>1</td>\n",
       "      <td>28.0</td>\n",
       "      <td>0</td>\n",
       "      <td>&gt; 2 Years</td>\n",
       "      <td>Yes</td>\n",
       "      <td>38294.0</td>\n",
       "      <td>26.0</td>\n",
       "      <td>27</td>\n",
       "      <td>1</td>\n",
       "    </tr>\n",
       "    <tr>\n",
       "      <th>3</th>\n",
       "      <td>4</td>\n",
       "      <td>Male</td>\n",
       "      <td>21</td>\n",
       "      <td>1</td>\n",
       "      <td>11.0</td>\n",
       "      <td>1</td>\n",
       "      <td>&lt; 1 Year</td>\n",
       "      <td>No</td>\n",
       "      <td>28619.0</td>\n",
       "      <td>152.0</td>\n",
       "      <td>203</td>\n",
       "      <td>0</td>\n",
       "    </tr>\n",
       "    <tr>\n",
       "      <th>4</th>\n",
       "      <td>5</td>\n",
       "      <td>Female</td>\n",
       "      <td>29</td>\n",
       "      <td>1</td>\n",
       "      <td>41.0</td>\n",
       "      <td>1</td>\n",
       "      <td>&lt; 1 Year</td>\n",
       "      <td>No</td>\n",
       "      <td>27496.0</td>\n",
       "      <td>152.0</td>\n",
       "      <td>39</td>\n",
       "      <td>0</td>\n",
       "    </tr>\n",
       "  </tbody>\n",
       "</table>\n",
       "</div>"
      ],
      "text/plain": [
       "   id  Gender  Age  Driving_License  Region_Code  Previously_Insured  \\\n",
       "0   1    Male   44                1         28.0                   0   \n",
       "1   2    Male   76                1          3.0                   0   \n",
       "2   3    Male   47                1         28.0                   0   \n",
       "3   4    Male   21                1         11.0                   1   \n",
       "4   5  Female   29                1         41.0                   1   \n",
       "\n",
       "  Vehicle_Age Vehicle_Damage  Annual_Premium  Policy_Sales_Channel  Vintage  \\\n",
       "0   > 2 Years            Yes         40454.0                  26.0      217   \n",
       "1    1-2 Year             No         33536.0                  26.0      183   \n",
       "2   > 2 Years            Yes         38294.0                  26.0       27   \n",
       "3    < 1 Year             No         28619.0                 152.0      203   \n",
       "4    < 1 Year             No         27496.0                 152.0       39   \n",
       "\n",
       "   Response  \n",
       "0         1  \n",
       "1         0  \n",
       "2         1  \n",
       "3         0  \n",
       "4         0  "
      ]
     },
     "execution_count": 5,
     "metadata": {},
     "output_type": "execute_result"
    }
   ],
   "source": [
    "dataset.head()"
   ]
  },
  {
   "cell_type": "code",
   "execution_count": 6,
   "id": "7aedb57c",
   "metadata": {},
   "outputs": [
    {
     "data": {
      "text/plain": [
       "(300000, 12)"
      ]
     },
     "execution_count": 6,
     "metadata": {},
     "output_type": "execute_result"
    }
   ],
   "source": [
    "dataset.shape"
   ]
  },
  {
   "cell_type": "markdown",
   "id": "9ddb2422",
   "metadata": {},
   "source": [
    "<a name = Section42></a>\n",
    "### 4.2 Data Description\n",
    "\n",
    "\n",
    " "
   ]
  },
  {
   "cell_type": "code",
   "execution_count": 7,
   "id": "8495772c",
   "metadata": {},
   "outputs": [
    {
     "data": {
      "text/html": [
       "<div>\n",
       "<style scoped>\n",
       "    .dataframe tbody tr th:only-of-type {\n",
       "        vertical-align: middle;\n",
       "    }\n",
       "\n",
       "    .dataframe tbody tr th {\n",
       "        vertical-align: top;\n",
       "    }\n",
       "\n",
       "    .dataframe thead th {\n",
       "        text-align: right;\n",
       "    }\n",
       "</style>\n",
       "<table border=\"1\" class=\"dataframe\">\n",
       "  <thead>\n",
       "    <tr style=\"text-align: right;\">\n",
       "      <th></th>\n",
       "      <th>id</th>\n",
       "      <th>Gender</th>\n",
       "      <th>Age</th>\n",
       "      <th>Driving_License</th>\n",
       "      <th>Region_Code</th>\n",
       "      <th>Previously_Insured</th>\n",
       "      <th>Vehicle_Age</th>\n",
       "      <th>Vehicle_Damage</th>\n",
       "      <th>Annual_Premium</th>\n",
       "      <th>Policy_Sales_Channel</th>\n",
       "      <th>Vintage</th>\n",
       "      <th>Response</th>\n",
       "    </tr>\n",
       "  </thead>\n",
       "  <tbody>\n",
       "    <tr>\n",
       "      <th>count</th>\n",
       "      <td>300000.000000</td>\n",
       "      <td>300000</td>\n",
       "      <td>300000.000000</td>\n",
       "      <td>300000.000000</td>\n",
       "      <td>300000.000000</td>\n",
       "      <td>300000.000000</td>\n",
       "      <td>300000</td>\n",
       "      <td>300000</td>\n",
       "      <td>300000.000000</td>\n",
       "      <td>300000.000000</td>\n",
       "      <td>300000.000000</td>\n",
       "      <td>300000.000000</td>\n",
       "    </tr>\n",
       "    <tr>\n",
       "      <th>unique</th>\n",
       "      <td>NaN</td>\n",
       "      <td>2</td>\n",
       "      <td>NaN</td>\n",
       "      <td>NaN</td>\n",
       "      <td>NaN</td>\n",
       "      <td>NaN</td>\n",
       "      <td>3</td>\n",
       "      <td>2</td>\n",
       "      <td>NaN</td>\n",
       "      <td>NaN</td>\n",
       "      <td>NaN</td>\n",
       "      <td>NaN</td>\n",
       "    </tr>\n",
       "    <tr>\n",
       "      <th>top</th>\n",
       "      <td>NaN</td>\n",
       "      <td>Male</td>\n",
       "      <td>NaN</td>\n",
       "      <td>NaN</td>\n",
       "      <td>NaN</td>\n",
       "      <td>NaN</td>\n",
       "      <td>1-2 Year</td>\n",
       "      <td>Yes</td>\n",
       "      <td>NaN</td>\n",
       "      <td>NaN</td>\n",
       "      <td>NaN</td>\n",
       "      <td>NaN</td>\n",
       "    </tr>\n",
       "    <tr>\n",
       "      <th>freq</th>\n",
       "      <td>NaN</td>\n",
       "      <td>162174</td>\n",
       "      <td>NaN</td>\n",
       "      <td>NaN</td>\n",
       "      <td>NaN</td>\n",
       "      <td>NaN</td>\n",
       "      <td>157678</td>\n",
       "      <td>151454</td>\n",
       "      <td>NaN</td>\n",
       "      <td>NaN</td>\n",
       "      <td>NaN</td>\n",
       "      <td>NaN</td>\n",
       "    </tr>\n",
       "    <tr>\n",
       "      <th>mean</th>\n",
       "      <td>150000.500000</td>\n",
       "      <td>NaN</td>\n",
       "      <td>38.815840</td>\n",
       "      <td>0.997863</td>\n",
       "      <td>26.382180</td>\n",
       "      <td>0.457947</td>\n",
       "      <td>NaN</td>\n",
       "      <td>NaN</td>\n",
       "      <td>30534.312123</td>\n",
       "      <td>112.118003</td>\n",
       "      <td>154.323843</td>\n",
       "      <td>0.122937</td>\n",
       "    </tr>\n",
       "    <tr>\n",
       "      <th>std</th>\n",
       "      <td>86602.684716</td>\n",
       "      <td>NaN</td>\n",
       "      <td>15.495699</td>\n",
       "      <td>0.046175</td>\n",
       "      <td>13.232431</td>\n",
       "      <td>0.498229</td>\n",
       "      <td>NaN</td>\n",
       "      <td>NaN</td>\n",
       "      <td>17247.475889</td>\n",
       "      <td>54.141651</td>\n",
       "      <td>83.643687</td>\n",
       "      <td>0.328365</td>\n",
       "    </tr>\n",
       "    <tr>\n",
       "      <th>min</th>\n",
       "      <td>1.000000</td>\n",
       "      <td>NaN</td>\n",
       "      <td>20.000000</td>\n",
       "      <td>0.000000</td>\n",
       "      <td>0.000000</td>\n",
       "      <td>0.000000</td>\n",
       "      <td>NaN</td>\n",
       "      <td>NaN</td>\n",
       "      <td>2630.000000</td>\n",
       "      <td>1.000000</td>\n",
       "      <td>10.000000</td>\n",
       "      <td>0.000000</td>\n",
       "    </tr>\n",
       "    <tr>\n",
       "      <th>25%</th>\n",
       "      <td>75000.750000</td>\n",
       "      <td>NaN</td>\n",
       "      <td>25.000000</td>\n",
       "      <td>1.000000</td>\n",
       "      <td>15.000000</td>\n",
       "      <td>0.000000</td>\n",
       "      <td>NaN</td>\n",
       "      <td>NaN</td>\n",
       "      <td>24388.000000</td>\n",
       "      <td>29.000000</td>\n",
       "      <td>82.000000</td>\n",
       "      <td>0.000000</td>\n",
       "    </tr>\n",
       "    <tr>\n",
       "      <th>50%</th>\n",
       "      <td>150000.500000</td>\n",
       "      <td>NaN</td>\n",
       "      <td>36.000000</td>\n",
       "      <td>1.000000</td>\n",
       "      <td>28.000000</td>\n",
       "      <td>0.000000</td>\n",
       "      <td>NaN</td>\n",
       "      <td>NaN</td>\n",
       "      <td>31642.000000</td>\n",
       "      <td>133.000000</td>\n",
       "      <td>154.000000</td>\n",
       "      <td>0.000000</td>\n",
       "    </tr>\n",
       "    <tr>\n",
       "      <th>75%</th>\n",
       "      <td>225000.250000</td>\n",
       "      <td>NaN</td>\n",
       "      <td>49.000000</td>\n",
       "      <td>1.000000</td>\n",
       "      <td>35.000000</td>\n",
       "      <td>1.000000</td>\n",
       "      <td>NaN</td>\n",
       "      <td>NaN</td>\n",
       "      <td>39360.250000</td>\n",
       "      <td>152.000000</td>\n",
       "      <td>227.000000</td>\n",
       "      <td>0.000000</td>\n",
       "    </tr>\n",
       "    <tr>\n",
       "      <th>max</th>\n",
       "      <td>300000.000000</td>\n",
       "      <td>NaN</td>\n",
       "      <td>85.000000</td>\n",
       "      <td>1.000000</td>\n",
       "      <td>52.000000</td>\n",
       "      <td>1.000000</td>\n",
       "      <td>NaN</td>\n",
       "      <td>NaN</td>\n",
       "      <td>540165.000000</td>\n",
       "      <td>163.000000</td>\n",
       "      <td>299.000000</td>\n",
       "      <td>1.000000</td>\n",
       "    </tr>\n",
       "  </tbody>\n",
       "</table>\n",
       "</div>"
      ],
      "text/plain": [
       "                   id  Gender            Age  Driving_License    Region_Code  \\\n",
       "count   300000.000000  300000  300000.000000    300000.000000  300000.000000   \n",
       "unique            NaN       2            NaN              NaN            NaN   \n",
       "top               NaN    Male            NaN              NaN            NaN   \n",
       "freq              NaN  162174            NaN              NaN            NaN   \n",
       "mean    150000.500000     NaN      38.815840         0.997863      26.382180   \n",
       "std      86602.684716     NaN      15.495699         0.046175      13.232431   \n",
       "min          1.000000     NaN      20.000000         0.000000       0.000000   \n",
       "25%      75000.750000     NaN      25.000000         1.000000      15.000000   \n",
       "50%     150000.500000     NaN      36.000000         1.000000      28.000000   \n",
       "75%     225000.250000     NaN      49.000000         1.000000      35.000000   \n",
       "max     300000.000000     NaN      85.000000         1.000000      52.000000   \n",
       "\n",
       "        Previously_Insured Vehicle_Age Vehicle_Damage  Annual_Premium  \\\n",
       "count        300000.000000      300000         300000   300000.000000   \n",
       "unique                 NaN           3              2             NaN   \n",
       "top                    NaN    1-2 Year            Yes             NaN   \n",
       "freq                   NaN      157678         151454             NaN   \n",
       "mean              0.457947         NaN            NaN    30534.312123   \n",
       "std               0.498229         NaN            NaN    17247.475889   \n",
       "min               0.000000         NaN            NaN     2630.000000   \n",
       "25%               0.000000         NaN            NaN    24388.000000   \n",
       "50%               0.000000         NaN            NaN    31642.000000   \n",
       "75%               1.000000         NaN            NaN    39360.250000   \n",
       "max               1.000000         NaN            NaN   540165.000000   \n",
       "\n",
       "        Policy_Sales_Channel        Vintage       Response  \n",
       "count          300000.000000  300000.000000  300000.000000  \n",
       "unique                   NaN            NaN            NaN  \n",
       "top                      NaN            NaN            NaN  \n",
       "freq                     NaN            NaN            NaN  \n",
       "mean              112.118003     154.323843       0.122937  \n",
       "std                54.141651      83.643687       0.328365  \n",
       "min                 1.000000      10.000000       0.000000  \n",
       "25%                29.000000      82.000000       0.000000  \n",
       "50%               133.000000     154.000000       0.000000  \n",
       "75%               152.000000     227.000000       0.000000  \n",
       "max               163.000000     299.000000       1.000000  "
      ]
     },
     "execution_count": 7,
     "metadata": {},
     "output_type": "execute_result"
    }
   ],
   "source": [
    "dataset.describe(include = \"all\")"
   ]
  },
  {
   "cell_type": "code",
   "execution_count": 8,
   "id": "6b272cb3",
   "metadata": {},
   "outputs": [
    {
     "name": "stdout",
     "output_type": "stream",
     "text": [
      "<class 'pandas.core.frame.DataFrame'>\n",
      "RangeIndex: 300000 entries, 0 to 299999\n",
      "Data columns (total 12 columns):\n",
      " #   Column                Non-Null Count   Dtype  \n",
      "---  ------                --------------   -----  \n",
      " 0   id                    300000 non-null  int64  \n",
      " 1   Gender                300000 non-null  object \n",
      " 2   Age                   300000 non-null  int64  \n",
      " 3   Driving_License       300000 non-null  int64  \n",
      " 4   Region_Code           300000 non-null  float64\n",
      " 5   Previously_Insured    300000 non-null  int64  \n",
      " 6   Vehicle_Age           300000 non-null  object \n",
      " 7   Vehicle_Damage        300000 non-null  object \n",
      " 8   Annual_Premium        300000 non-null  float64\n",
      " 9   Policy_Sales_Channel  300000 non-null  float64\n",
      " 10  Vintage               300000 non-null  int64  \n",
      " 11  Response              300000 non-null  int64  \n",
      "dtypes: float64(3), int64(6), object(3)\n",
      "memory usage: 27.5+ MB\n"
     ]
    }
   ],
   "source": [
    "dataset.info()"
   ]
  },
  {
   "cell_type": "markdown",
   "id": "fdb1e938",
   "metadata": {},
   "source": [
    "<a name = Section43></a>\n",
    "### **4.3 Data Information**\n",
    "\n",
    "- In this section we will see the **information about the types of features**."
   ]
  },
  {
   "cell_type": "code",
   "execution_count": 9,
   "id": "3169371c",
   "metadata": {},
   "outputs": [
    {
     "name": "stdout",
     "output_type": "stream",
     "text": [
      "<class 'pandas.core.frame.DataFrame'>\n",
      "RangeIndex: 300000 entries, 0 to 299999\n",
      "Data columns (total 12 columns):\n",
      " #   Column                Non-Null Count   Dtype  \n",
      "---  ------                --------------   -----  \n",
      " 0   id                    300000 non-null  int64  \n",
      " 1   Gender                300000 non-null  object \n",
      " 2   Age                   300000 non-null  int64  \n",
      " 3   Driving_License       300000 non-null  int64  \n",
      " 4   Region_Code           300000 non-null  float64\n",
      " 5   Previously_Insured    300000 non-null  int64  \n",
      " 6   Vehicle_Age           300000 non-null  object \n",
      " 7   Vehicle_Damage        300000 non-null  object \n",
      " 8   Annual_Premium        300000 non-null  float64\n",
      " 9   Policy_Sales_Channel  300000 non-null  float64\n",
      " 10  Vintage               300000 non-null  int64  \n",
      " 11  Response              300000 non-null  int64  \n",
      "dtypes: float64(3), int64(6), object(3)\n",
      "memory usage: 73.9 MB\n"
     ]
    }
   ],
   "source": [
    "dataset.info(verbose=True, memory_usage='deep', null_counts=True)"
   ]
  },
  {
   "cell_type": "markdown",
   "id": "871ceb59",
   "metadata": {},
   "source": [
    "**Observations:**\n",
    "\n",
    "- At high level, we can observe that there are **no missing data** in our dataset.\n",
    "\n",
    "- There are 11 features in the dataset.\n",
    "\n",
    "- We have 3 features that are float, 5 features that are integer and 3 features that are objects.\n",
    "\n"
   ]
  },
  {
   "cell_type": "markdown",
   "id": "7d7bd1a3",
   "metadata": {},
   "source": [
    "<a name = Section5></a>\n",
    "\n",
    "---\n",
    "# **5. Data Pre-Processing**\n",
    "---"
   ]
  },
  {
   "cell_type": "markdown",
   "id": "8f32ec6b",
   "metadata": {},
   "source": [
    "<a name = Section51></a>\n",
    "### **5.1  Handling of Redundant Data**\n",
    "\n",
    "- In this section, we will see if any redundant data are present in the dataset."
   ]
  },
  {
   "cell_type": "code",
   "execution_count": 10,
   "id": "8f0d507e",
   "metadata": {},
   "outputs": [
    {
     "name": "stdout",
     "output_type": "stream",
     "text": [
      "Has the Dataset cointains any Duplicate/ Redundant values ?   False\n"
     ]
    }
   ],
   "source": [
    "print('Has the Dataset cointains any Duplicate/ Redundant values ?  ',dataset.duplicated().any())"
   ]
  },
  {
   "cell_type": "code",
   "execution_count": 11,
   "id": "b2882854",
   "metadata": {},
   "outputs": [
    {
     "data": {
      "text/plain": [
       "0         False\n",
       "1         False\n",
       "2         False\n",
       "3         False\n",
       "4         False\n",
       "          ...  \n",
       "299995    False\n",
       "299996    False\n",
       "299997    False\n",
       "299998    False\n",
       "299999    False\n",
       "Length: 300000, dtype: bool"
      ]
     },
     "execution_count": 11,
     "metadata": {},
     "output_type": "execute_result"
    }
   ],
   "source": [
    "dataset.duplicated()"
   ]
  },
  {
   "cell_type": "code",
   "execution_count": 12,
   "id": "d2a2dcf4",
   "metadata": {},
   "outputs": [],
   "source": [
    "duplicate_dataset = dataset[dataset.duplicated()]"
   ]
  },
  {
   "cell_type": "code",
   "execution_count": 13,
   "id": "2b398c28",
   "metadata": {},
   "outputs": [],
   "source": [
    "duplicate_dataset.to_csv(\"Duplicate.csv\")"
   ]
  },
  {
   "cell_type": "markdown",
   "id": "c8f58ae4",
   "metadata": {},
   "source": [
    "**Observations:**\n",
    "\n",
    "- On futher analysis, we can see that these data are not duplicates. We don't need to remove these data"
   ]
  },
  {
   "cell_type": "markdown",
   "id": "c360d428",
   "metadata": {},
   "source": [
    "<a name = Section52></a>\n",
    "### **5.2  Handling of Missing Data**"
   ]
  },
  {
   "cell_type": "code",
   "execution_count": 14,
   "id": "a2667ffe",
   "metadata": {},
   "outputs": [
    {
     "data": {
      "text/html": [
       "<div>\n",
       "<style scoped>\n",
       "    .dataframe tbody tr th:only-of-type {\n",
       "        vertical-align: middle;\n",
       "    }\n",
       "\n",
       "    .dataframe tbody tr th {\n",
       "        vertical-align: top;\n",
       "    }\n",
       "\n",
       "    .dataframe thead th {\n",
       "        text-align: right;\n",
       "    }\n",
       "</style>\n",
       "<table border=\"1\" class=\"dataframe\">\n",
       "  <thead>\n",
       "    <tr style=\"text-align: right;\">\n",
       "      <th></th>\n",
       "      <th>Null Frequency</th>\n",
       "      <th>Missing Percentage</th>\n",
       "    </tr>\n",
       "  </thead>\n",
       "  <tbody>\n",
       "    <tr>\n",
       "      <th>id</th>\n",
       "      <td>0</td>\n",
       "      <td>0.0</td>\n",
       "    </tr>\n",
       "    <tr>\n",
       "      <th>Gender</th>\n",
       "      <td>0</td>\n",
       "      <td>0.0</td>\n",
       "    </tr>\n",
       "    <tr>\n",
       "      <th>Age</th>\n",
       "      <td>0</td>\n",
       "      <td>0.0</td>\n",
       "    </tr>\n",
       "    <tr>\n",
       "      <th>Driving_License</th>\n",
       "      <td>0</td>\n",
       "      <td>0.0</td>\n",
       "    </tr>\n",
       "    <tr>\n",
       "      <th>Region_Code</th>\n",
       "      <td>0</td>\n",
       "      <td>0.0</td>\n",
       "    </tr>\n",
       "    <tr>\n",
       "      <th>Previously_Insured</th>\n",
       "      <td>0</td>\n",
       "      <td>0.0</td>\n",
       "    </tr>\n",
       "    <tr>\n",
       "      <th>Vehicle_Age</th>\n",
       "      <td>0</td>\n",
       "      <td>0.0</td>\n",
       "    </tr>\n",
       "    <tr>\n",
       "      <th>Vehicle_Damage</th>\n",
       "      <td>0</td>\n",
       "      <td>0.0</td>\n",
       "    </tr>\n",
       "    <tr>\n",
       "      <th>Annual_Premium</th>\n",
       "      <td>0</td>\n",
       "      <td>0.0</td>\n",
       "    </tr>\n",
       "    <tr>\n",
       "      <th>Policy_Sales_Channel</th>\n",
       "      <td>0</td>\n",
       "      <td>0.0</td>\n",
       "    </tr>\n",
       "    <tr>\n",
       "      <th>Vintage</th>\n",
       "      <td>0</td>\n",
       "      <td>0.0</td>\n",
       "    </tr>\n",
       "    <tr>\n",
       "      <th>Response</th>\n",
       "      <td>0</td>\n",
       "      <td>0.0</td>\n",
       "    </tr>\n",
       "  </tbody>\n",
       "</table>\n",
       "</div>"
      ],
      "text/plain": [
       "                      Null Frequency  Missing Percentage\n",
       "id                                 0                 0.0\n",
       "Gender                             0                 0.0\n",
       "Age                                0                 0.0\n",
       "Driving_License                    0                 0.0\n",
       "Region_Code                        0                 0.0\n",
       "Previously_Insured                 0                 0.0\n",
       "Vehicle_Age                        0                 0.0\n",
       "Vehicle_Damage                     0                 0.0\n",
       "Annual_Premium                     0                 0.0\n",
       "Policy_Sales_Channel               0                 0.0\n",
       "Vintage                            0                 0.0\n",
       "Response                           0                 0.0"
      ]
     },
     "execution_count": 14,
     "metadata": {},
     "output_type": "execute_result"
    }
   ],
   "source": [
    "null_frame = pd.DataFrame(index = dataset.columns.values)\n",
    "null_frame['Null Frequency'] = dataset.isnull().sum().values\n",
    "percent = dataset.isnull().sum().values/dataset.shape[0]\n",
    "null_frame['Missing Percentage'] = np.round(percent, decimals = 4) * 100\n",
    "null_frame"
   ]
  },
  {
   "cell_type": "markdown",
   "id": "04fbca21",
   "metadata": {},
   "source": [
    "**Observations:**\n",
    "\n",
    "- There are no missing data in the dataset"
   ]
  },
  {
   "cell_type": "code",
   "execution_count": 15,
   "id": "f4da498c",
   "metadata": {},
   "outputs": [
    {
     "data": {
      "text/plain": [
       "Male      162174\n",
       "Female    137826\n",
       "Name: Gender, dtype: int64"
      ]
     },
     "execution_count": 15,
     "metadata": {},
     "output_type": "execute_result"
    }
   ],
   "source": [
    "dataset['Gender'].value_counts()"
   ]
  },
  {
   "cell_type": "code",
   "execution_count": 16,
   "id": "b5608b6a",
   "metadata": {},
   "outputs": [
    {
     "data": {
      "text/plain": [
       "24    20435\n",
       "23    18991\n",
       "22    16479\n",
       "25    16081\n",
       "21    12963\n",
       "      ...  \n",
       "81       47\n",
       "82       20\n",
       "83       19\n",
       "84       10\n",
       "85       10\n",
       "Name: Age, Length: 66, dtype: int64"
      ]
     },
     "execution_count": 16,
     "metadata": {},
     "output_type": "execute_result"
    }
   ],
   "source": [
    "dataset['Age'].value_counts()"
   ]
  },
  {
   "cell_type": "code",
   "execution_count": 17,
   "id": "7751372d",
   "metadata": {},
   "outputs": [
    {
     "data": {
      "text/plain": [
       "1    299359\n",
       "0       641\n",
       "Name: Driving_License, dtype: int64"
      ]
     },
     "execution_count": 17,
     "metadata": {},
     "output_type": "execute_result"
    }
   ],
   "source": [
    "dataset['Driving_License'].value_counts()"
   ]
  },
  {
   "cell_type": "code",
   "execution_count": 18,
   "id": "519b5314",
   "metadata": {},
   "outputs": [
    {
     "data": {
      "text/plain": [
       "28.0    83779\n",
       "8.0     26583\n",
       "46.0    15516\n",
       "41.0    14347\n",
       "15.0    10440\n",
       "30.0     9514\n",
       "29.0     8615\n",
       "50.0     8091\n",
       "11.0     7306\n",
       "3.0      7303\n",
       "36.0     6886\n",
       "33.0     6016\n",
       "47.0     5847\n",
       "35.0     5516\n",
       "6.0      4986\n",
       "45.0     4411\n",
       "37.0     4397\n",
       "18.0     4078\n",
       "14.0     3689\n",
       "48.0     3671\n",
       "39.0     3619\n",
       "10.0     3439\n",
       "21.0     3294\n",
       "2.0      3169\n",
       "13.0     3148\n",
       "7.0      2608\n",
       "12.0     2530\n",
       "9.0      2432\n",
       "27.0     2248\n",
       "32.0     2213\n",
       "17.0     2094\n",
       "43.0     2082\n",
       "26.0     2061\n",
       "25.0     1989\n",
       "24.0     1913\n",
       "0.0      1610\n",
       "16.0     1605\n",
       "38.0     1602\n",
       "23.0     1543\n",
       "31.0     1542\n",
       "20.0     1536\n",
       "49.0     1459\n",
       "4.0      1423\n",
       "34.0     1299\n",
       "19.0     1216\n",
       "22.0     1043\n",
       "40.0     1043\n",
       "5.0      1021\n",
       "1.0       787\n",
       "44.0      626\n",
       "42.0      481\n",
       "52.0      196\n",
       "51.0      138\n",
       "Name: Region_Code, dtype: int64"
      ]
     },
     "execution_count": 18,
     "metadata": {},
     "output_type": "execute_result"
    }
   ],
   "source": [
    "dataset['Region_Code'].value_counts()"
   ]
  },
  {
   "cell_type": "code",
   "execution_count": 19,
   "id": "5ee7feb5",
   "metadata": {},
   "outputs": [
    {
     "data": {
      "text/plain": [
       "0    162616\n",
       "1    137384\n",
       "Name: Previously_Insured, dtype: int64"
      ]
     },
     "execution_count": 19,
     "metadata": {},
     "output_type": "execute_result"
    }
   ],
   "source": [
    "dataset['Previously_Insured'].value_counts()"
   ]
  },
  {
   "cell_type": "code",
   "execution_count": 20,
   "id": "8750d808",
   "metadata": {},
   "outputs": [
    {
     "data": {
      "text/plain": [
       "1-2 Year     157678\n",
       "< 1 Year     129707\n",
       "> 2 Years     12615\n",
       "Name: Vehicle_Age, dtype: int64"
      ]
     },
     "execution_count": 20,
     "metadata": {},
     "output_type": "execute_result"
    }
   ],
   "source": [
    "dataset['Vehicle_Age'].value_counts()"
   ]
  },
  {
   "cell_type": "code",
   "execution_count": 21,
   "id": "fc5bc015",
   "metadata": {},
   "outputs": [
    {
     "data": {
      "text/plain": [
       "Yes    151454\n",
       "No     148546\n",
       "Name: Vehicle_Damage, dtype: int64"
      ]
     },
     "execution_count": 21,
     "metadata": {},
     "output_type": "execute_result"
    }
   ],
   "source": [
    "dataset['Vehicle_Damage'].value_counts()"
   ]
  },
  {
   "cell_type": "code",
   "execution_count": 22,
   "id": "7dbdcd5c",
   "metadata": {},
   "outputs": [
    {
     "data": {
      "text/plain": [
       "2630.0      51243\n",
       "69856.0       113\n",
       "49324.0        30\n",
       "45179.0        29\n",
       "39008.0        29\n",
       "            ...  \n",
       "19501.0         1\n",
       "130427.0        1\n",
       "75177.0         1\n",
       "68216.0         1\n",
       "55615.0         1\n",
       "Name: Annual_Premium, Length: 46133, dtype: int64"
      ]
     },
     "execution_count": 22,
     "metadata": {},
     "output_type": "execute_result"
    }
   ],
   "source": [
    "dataset['Annual_Premium'].value_counts()"
   ]
  },
  {
   "cell_type": "code",
   "execution_count": 23,
   "id": "ea500556",
   "metadata": {},
   "outputs": [
    {
     "data": {
      "text/plain": [
       "152.0    106033\n",
       "26.0      62519\n",
       "124.0     58466\n",
       "160.0     17099\n",
       "156.0      8495\n",
       "          ...  \n",
       "33.0          1\n",
       "84.0          1\n",
       "123.0         1\n",
       "75.0          1\n",
       "144.0         1\n",
       "Name: Policy_Sales_Channel, Length: 153, dtype: int64"
      ]
     },
     "execution_count": 23,
     "metadata": {},
     "output_type": "execute_result"
    }
   ],
   "source": [
    "dataset['Policy_Sales_Channel'].value_counts()"
   ]
  },
  {
   "cell_type": "code",
   "execution_count": 24,
   "id": "479cc0d2",
   "metadata": {},
   "outputs": [
    {
     "data": {
      "text/plain": [
       "73     1136\n",
       "256    1125\n",
       "63     1108\n",
       "92     1108\n",
       "158    1107\n",
       "       ... \n",
       "32      972\n",
       "181     971\n",
       "48      969\n",
       "89      969\n",
       "235     965\n",
       "Name: Vintage, Length: 290, dtype: int64"
      ]
     },
     "execution_count": 24,
     "metadata": {},
     "output_type": "execute_result"
    }
   ],
   "source": [
    "dataset['Vintage'].value_counts()"
   ]
  },
  {
   "cell_type": "code",
   "execution_count": 25,
   "id": "1d15f88c",
   "metadata": {},
   "outputs": [
    {
     "data": {
      "text/plain": [
       "0    263119\n",
       "1     36881\n",
       "Name: Response, dtype: int64"
      ]
     },
     "execution_count": 25,
     "metadata": {},
     "output_type": "execute_result"
    }
   ],
   "source": [
    "dataset['Response'].value_counts()"
   ]
  },
  {
   "cell_type": "markdown",
   "id": "a09feb99",
   "metadata": {},
   "source": [
    "<a name = Section6></a>\n",
    "\n",
    "---\n",
    "# **6. Exploratory Data Analysis**\n",
    "---"
   ]
  },
  {
   "cell_type": "markdown",
   "id": "e874addb",
   "metadata": {},
   "source": [
    "<a name = Section61></a>\n",
    "**<h4>Question:** What is the gender distribution of the Policyholders ?</h4>"
   ]
  },
  {
   "cell_type": "code",
   "execution_count": 26,
   "id": "5d13f0f6",
   "metadata": {},
   "outputs": [
    {
     "data": {
      "image/png": "[encoded data removed]",
      "text/plain": [
       "<Figure size 720x720 with 1 Axes>"
      ]
     },
     "metadata": {},
     "output_type": "display_data"
    }
   ],
   "source": [
    "fig = plt.figure(figsize = (10, 10))\n",
    "\n",
    "dataset['Gender'].value_counts().plot(kind='pie', autopct = '%3.0f%%',legend=True)\n",
    "plt.xlabel(xlabel='Gender', fontsize=26)\n",
    "plt.show()"
   ]
  },
  {
   "cell_type": "markdown",
   "id": "df221e8d",
   "metadata": {},
   "source": [
    "<a name = Section62></a>\n",
    "**<h4>Question:** What is the age distribution of the Policyholders?</h4>"
   ]
  },
  {
   "cell_type": "code",
   "execution_count": 27,
   "id": "101a033b",
   "metadata": {},
   "outputs": [
    {
     "data": {
      "text/html": [
       "<div>\n",
       "<style scoped>\n",
       "    .dataframe tbody tr th:only-of-type {\n",
       "        vertical-align: middle;\n",
       "    }\n",
       "\n",
       "    .dataframe tbody tr th {\n",
       "        vertical-align: top;\n",
       "    }\n",
       "\n",
       "    .dataframe thead th {\n",
       "        text-align: right;\n",
       "    }\n",
       "</style>\n",
       "<table border=\"1\" class=\"dataframe\">\n",
       "  <thead>\n",
       "    <tr style=\"text-align: right;\">\n",
       "      <th></th>\n",
       "      <th>id</th>\n",
       "      <th>Gender</th>\n",
       "      <th>Age</th>\n",
       "      <th>Driving_License</th>\n",
       "      <th>Region_Code</th>\n",
       "      <th>Previously_Insured</th>\n",
       "      <th>Vehicle_Age</th>\n",
       "      <th>Vehicle_Damage</th>\n",
       "      <th>Annual_Premium</th>\n",
       "      <th>Policy_Sales_Channel</th>\n",
       "      <th>Vintage</th>\n",
       "      <th>Response</th>\n",
       "    </tr>\n",
       "  </thead>\n",
       "  <tbody>\n",
       "    <tr>\n",
       "      <th>count</th>\n",
       "      <td>300000.000000</td>\n",
       "      <td>300000</td>\n",
       "      <td>300000.000000</td>\n",
       "      <td>300000.000000</td>\n",
       "      <td>300000.000000</td>\n",
       "      <td>300000.000000</td>\n",
       "      <td>300000</td>\n",
       "      <td>300000</td>\n",
       "      <td>300000.000000</td>\n",
       "      <td>300000.000000</td>\n",
       "      <td>300000.000000</td>\n",
       "      <td>300000.000000</td>\n",
       "    </tr>\n",
       "    <tr>\n",
       "      <th>unique</th>\n",
       "      <td>NaN</td>\n",
       "      <td>2</td>\n",
       "      <td>NaN</td>\n",
       "      <td>NaN</td>\n",
       "      <td>NaN</td>\n",
       "      <td>NaN</td>\n",
       "      <td>3</td>\n",
       "      <td>2</td>\n",
       "      <td>NaN</td>\n",
       "      <td>NaN</td>\n",
       "      <td>NaN</td>\n",
       "      <td>NaN</td>\n",
       "    </tr>\n",
       "    <tr>\n",
       "      <th>top</th>\n",
       "      <td>NaN</td>\n",
       "      <td>Male</td>\n",
       "      <td>NaN</td>\n",
       "      <td>NaN</td>\n",
       "      <td>NaN</td>\n",
       "      <td>NaN</td>\n",
       "      <td>1-2 Year</td>\n",
       "      <td>Yes</td>\n",
       "      <td>NaN</td>\n",
       "      <td>NaN</td>\n",
       "      <td>NaN</td>\n",
       "      <td>NaN</td>\n",
       "    </tr>\n",
       "    <tr>\n",
       "      <th>freq</th>\n",
       "      <td>NaN</td>\n",
       "      <td>162174</td>\n",
       "      <td>NaN</td>\n",
       "      <td>NaN</td>\n",
       "      <td>NaN</td>\n",
       "      <td>NaN</td>\n",
       "      <td>157678</td>\n",
       "      <td>151454</td>\n",
       "      <td>NaN</td>\n",
       "      <td>NaN</td>\n",
       "      <td>NaN</td>\n",
       "      <td>NaN</td>\n",
       "    </tr>\n",
       "    <tr>\n",
       "      <th>mean</th>\n",
       "      <td>150000.500000</td>\n",
       "      <td>NaN</td>\n",
       "      <td>38.815840</td>\n",
       "      <td>0.997863</td>\n",
       "      <td>26.382180</td>\n",
       "      <td>0.457947</td>\n",
       "      <td>NaN</td>\n",
       "      <td>NaN</td>\n",
       "      <td>30534.312123</td>\n",
       "      <td>112.118003</td>\n",
       "      <td>154.323843</td>\n",
       "      <td>0.122937</td>\n",
       "    </tr>\n",
       "    <tr>\n",
       "      <th>std</th>\n",
       "      <td>86602.684716</td>\n",
       "      <td>NaN</td>\n",
       "      <td>15.495699</td>\n",
       "      <td>0.046175</td>\n",
       "      <td>13.232431</td>\n",
       "      <td>0.498229</td>\n",
       "      <td>NaN</td>\n",
       "      <td>NaN</td>\n",
       "      <td>17247.475889</td>\n",
       "      <td>54.141651</td>\n",
       "      <td>83.643687</td>\n",
       "      <td>0.328365</td>\n",
       "    </tr>\n",
       "    <tr>\n",
       "      <th>min</th>\n",
       "      <td>1.000000</td>\n",
       "      <td>NaN</td>\n",
       "      <td>20.000000</td>\n",
       "      <td>0.000000</td>\n",
       "      <td>0.000000</td>\n",
       "      <td>0.000000</td>\n",
       "      <td>NaN</td>\n",
       "      <td>NaN</td>\n",
       "      <td>2630.000000</td>\n",
       "      <td>1.000000</td>\n",
       "      <td>10.000000</td>\n",
       "      <td>0.000000</td>\n",
       "    </tr>\n",
       "    <tr>\n",
       "      <th>25%</th>\n",
       "      <td>75000.750000</td>\n",
       "      <td>NaN</td>\n",
       "      <td>25.000000</td>\n",
       "      <td>1.000000</td>\n",
       "      <td>15.000000</td>\n",
       "      <td>0.000000</td>\n",
       "      <td>NaN</td>\n",
       "      <td>NaN</td>\n",
       "      <td>24388.000000</td>\n",
       "      <td>29.000000</td>\n",
       "      <td>82.000000</td>\n",
       "      <td>0.000000</td>\n",
       "    </tr>\n",
       "    <tr>\n",
       "      <th>50%</th>\n",
       "      <td>150000.500000</td>\n",
       "      <td>NaN</td>\n",
       "      <td>36.000000</td>\n",
       "      <td>1.000000</td>\n",
       "      <td>28.000000</td>\n",
       "      <td>0.000000</td>\n",
       "      <td>NaN</td>\n",
       "      <td>NaN</td>\n",
       "      <td>31642.000000</td>\n",
       "      <td>133.000000</td>\n",
       "      <td>154.000000</td>\n",
       "      <td>0.000000</td>\n",
       "    </tr>\n",
       "    <tr>\n",
       "      <th>75%</th>\n",
       "      <td>225000.250000</td>\n",
       "      <td>NaN</td>\n",
       "      <td>49.000000</td>\n",
       "      <td>1.000000</td>\n",
       "      <td>35.000000</td>\n",
       "      <td>1.000000</td>\n",
       "      <td>NaN</td>\n",
       "      <td>NaN</td>\n",
       "      <td>39360.250000</td>\n",
       "      <td>152.000000</td>\n",
       "      <td>227.000000</td>\n",
       "      <td>0.000000</td>\n",
       "    </tr>\n",
       "    <tr>\n",
       "      <th>max</th>\n",
       "      <td>300000.000000</td>\n",
       "      <td>NaN</td>\n",
       "      <td>85.000000</td>\n",
       "      <td>1.000000</td>\n",
       "      <td>52.000000</td>\n",
       "      <td>1.000000</td>\n",
       "      <td>NaN</td>\n",
       "      <td>NaN</td>\n",
       "      <td>540165.000000</td>\n",
       "      <td>163.000000</td>\n",
       "      <td>299.000000</td>\n",
       "      <td>1.000000</td>\n",
       "    </tr>\n",
       "  </tbody>\n",
       "</table>\n",
       "</div>"
      ],
      "text/plain": [
       "                   id  Gender            Age  Driving_License    Region_Code  \\\n",
       "count   300000.000000  300000  300000.000000    300000.000000  300000.000000   \n",
       "unique            NaN       2            NaN              NaN            NaN   \n",
       "top               NaN    Male            NaN              NaN            NaN   \n",
       "freq              NaN  162174            NaN              NaN            NaN   \n",
       "mean    150000.500000     NaN      38.815840         0.997863      26.382180   \n",
       "std      86602.684716     NaN      15.495699         0.046175      13.232431   \n",
       "min          1.000000     NaN      20.000000         0.000000       0.000000   \n",
       "25%      75000.750000     NaN      25.000000         1.000000      15.000000   \n",
       "50%     150000.500000     NaN      36.000000         1.000000      28.000000   \n",
       "75%     225000.250000     NaN      49.000000         1.000000      35.000000   \n",
       "max     300000.000000     NaN      85.000000         1.000000      52.000000   \n",
       "\n",
       "        Previously_Insured Vehicle_Age Vehicle_Damage  Annual_Premium  \\\n",
       "count        300000.000000      300000         300000   300000.000000   \n",
       "unique                 NaN           3              2             NaN   \n",
       "top                    NaN    1-2 Year            Yes             NaN   \n",
       "freq                   NaN      157678         151454             NaN   \n",
       "mean              0.457947         NaN            NaN    30534.312123   \n",
       "std               0.498229         NaN            NaN    17247.475889   \n",
       "min               0.000000         NaN            NaN     2630.000000   \n",
       "25%               0.000000         NaN            NaN    24388.000000   \n",
       "50%               0.000000         NaN            NaN    31642.000000   \n",
       "75%               1.000000         NaN            NaN    39360.250000   \n",
       "max               1.000000         NaN            NaN   540165.000000   \n",
       "\n",
       "        Policy_Sales_Channel        Vintage       Response  \n",
       "count          300000.000000  300000.000000  300000.000000  \n",
       "unique                   NaN            NaN            NaN  \n",
       "top                      NaN            NaN            NaN  \n",
       "freq                     NaN            NaN            NaN  \n",
       "mean              112.118003     154.323843       0.122937  \n",
       "std                54.141651      83.643687       0.328365  \n",
       "min                 1.000000      10.000000       0.000000  \n",
       "25%                29.000000      82.000000       0.000000  \n",
       "50%               133.000000     154.000000       0.000000  \n",
       "75%               152.000000     227.000000       0.000000  \n",
       "max               163.000000     299.000000       1.000000  "
      ]
     },
     "execution_count": 27,
     "metadata": {},
     "output_type": "execute_result"
    }
   ],
   "source": [
    "dataset.describe(include =\"all\")"
   ]
  },
  {
   "cell_type": "code",
   "execution_count": 28,
   "id": "aa238bd0",
   "metadata": {},
   "outputs": [
    {
     "name": "stdout",
     "output_type": "stream",
     "text": [
      "<class 'pandas.core.frame.DataFrame'>\n",
      "RangeIndex: 300000 entries, 0 to 299999\n",
      "Data columns (total 12 columns):\n",
      " #   Column                Non-Null Count   Dtype  \n",
      "---  ------                --------------   -----  \n",
      " 0   id                    300000 non-null  int64  \n",
      " 1   Gender                300000 non-null  object \n",
      " 2   Age                   300000 non-null  int64  \n",
      " 3   Driving_License       300000 non-null  int64  \n",
      " 4   Region_Code           300000 non-null  float64\n",
      " 5   Previously_Insured    300000 non-null  int64  \n",
      " 6   Vehicle_Age           300000 non-null  object \n",
      " 7   Vehicle_Damage        300000 non-null  object \n",
      " 8   Annual_Premium        300000 non-null  float64\n",
      " 9   Policy_Sales_Channel  300000 non-null  float64\n",
      " 10  Vintage               300000 non-null  int64  \n",
      " 11  Response              300000 non-null  int64  \n",
      "dtypes: float64(3), int64(6), object(3)\n",
      "memory usage: 27.5+ MB\n"
     ]
    }
   ],
   "source": [
    "dataset.info()"
   ]
  },
  {
   "cell_type": "code",
   "execution_count": 29,
   "id": "d406a502",
   "metadata": {},
   "outputs": [
    {
     "data": {
      "text/plain": [
       "Male      162174\n",
       "Female    137826\n",
       "Name: Gender, dtype: int64"
      ]
     },
     "execution_count": 29,
     "metadata": {},
     "output_type": "execute_result"
    }
   ],
   "source": [
    "dataset['Gender'].value_counts()"
   ]
  },
  {
   "cell_type": "code",
   "execution_count": 30,
   "id": "950fe546",
   "metadata": {},
   "outputs": [],
   "source": [
    "dataset.replace({'Gender':{'Male':0, 'Female':1}}, inplace = True)"
   ]
  },
  {
   "cell_type": "code",
   "execution_count": 31,
   "id": "a44d2953",
   "metadata": {},
   "outputs": [
    {
     "data": {
      "text/plain": [
       "1-2 Year     157678\n",
       "< 1 Year     129707\n",
       "> 2 Years     12615\n",
       "Name: Vehicle_Age, dtype: int64"
      ]
     },
     "execution_count": 31,
     "metadata": {},
     "output_type": "execute_result"
    }
   ],
   "source": [
    "dataset['Vehicle_Age'].value_counts()"
   ]
  },
  {
   "cell_type": "code",
   "execution_count": 32,
   "id": "2a099c4e",
   "metadata": {},
   "outputs": [],
   "source": [
    "dataset.replace({'Vehicle_Age':{'1-2 Year':0, '< 1 Year':1, '> 2 Years':2}}, inplace = True)"
   ]
  },
  {
   "cell_type": "code",
   "execution_count": 33,
   "id": "a4c38648",
   "metadata": {},
   "outputs": [
    {
     "data": {
      "text/plain": [
       "Yes    151454\n",
       "No     148546\n",
       "Name: Vehicle_Damage, dtype: int64"
      ]
     },
     "execution_count": 33,
     "metadata": {},
     "output_type": "execute_result"
    }
   ],
   "source": [
    "dataset['Vehicle_Damage'].value_counts()"
   ]
  },
  {
   "cell_type": "code",
   "execution_count": 34,
   "id": "3634ea35",
   "metadata": {},
   "outputs": [],
   "source": [
    "dataset.replace({'Vehicle_Damage':{'Yes':0, 'No':1}}, inplace = True)"
   ]
  },
  {
   "cell_type": "code",
   "execution_count": 35,
   "id": "ea91770b",
   "metadata": {},
   "outputs": [
    {
     "name": "stdout",
     "output_type": "stream",
     "text": [
      "<class 'pandas.core.frame.DataFrame'>\n",
      "RangeIndex: 300000 entries, 0 to 299999\n",
      "Data columns (total 12 columns):\n",
      " #   Column                Non-Null Count   Dtype  \n",
      "---  ------                --------------   -----  \n",
      " 0   id                    300000 non-null  int64  \n",
      " 1   Gender                300000 non-null  int64  \n",
      " 2   Age                   300000 non-null  int64  \n",
      " 3   Driving_License       300000 non-null  int64  \n",
      " 4   Region_Code           300000 non-null  float64\n",
      " 5   Previously_Insured    300000 non-null  int64  \n",
      " 6   Vehicle_Age           300000 non-null  int64  \n",
      " 7   Vehicle_Damage        300000 non-null  int64  \n",
      " 8   Annual_Premium        300000 non-null  float64\n",
      " 9   Policy_Sales_Channel  300000 non-null  float64\n",
      " 10  Vintage               300000 non-null  int64  \n",
      " 11  Response              300000 non-null  int64  \n",
      "dtypes: float64(3), int64(9)\n",
      "memory usage: 27.5 MB\n"
     ]
    }
   ],
   "source": [
    "dataset.info()"
   ]
  },
  {
   "cell_type": "markdown",
   "id": "f54b2a76",
   "metadata": {},
   "source": [
    "## Standardization"
   ]
  },
  {
   "cell_type": "code",
   "execution_count": 36,
   "id": "ce5bce76",
   "metadata": {},
   "outputs": [],
   "source": [
    "X = dataset.iloc[:,:-1]\n",
    "y = dataset['Response']"
   ]
  },
  {
   "cell_type": "code",
   "execution_count": 37,
   "id": "ff117274",
   "metadata": {},
   "outputs": [
    {
     "data": {
      "text/plain": [
       "0         1\n",
       "1         0\n",
       "2         1\n",
       "3         0\n",
       "4         0\n",
       "         ..\n",
       "299995    0\n",
       "299996    0\n",
       "299997    0\n",
       "299998    0\n",
       "299999    0\n",
       "Name: Response, Length: 300000, dtype: int64"
      ]
     },
     "execution_count": 37,
     "metadata": {},
     "output_type": "execute_result"
    }
   ],
   "source": [
    "y"
   ]
  },
  {
   "cell_type": "code",
   "execution_count": 38,
   "id": "4c0d509c",
   "metadata": {},
   "outputs": [],
   "source": [
    "from sklearn.preprocessing import StandardScaler"
   ]
  },
  {
   "cell_type": "code",
   "execution_count": 39,
   "id": "dac39fd9",
   "metadata": {},
   "outputs": [
    {
     "data": {
      "text/plain": [
       "0         1\n",
       "1         0\n",
       "2         1\n",
       "3         0\n",
       "4         0\n",
       "         ..\n",
       "299995    0\n",
       "299996    0\n",
       "299997    0\n",
       "299998    0\n",
       "299999    0\n",
       "Name: Response, Length: 300000, dtype: int64"
      ]
     },
     "execution_count": 39,
     "metadata": {},
     "output_type": "execute_result"
    }
   ],
   "source": [
    "y"
   ]
  },
  {
   "cell_type": "markdown",
   "id": "a02afc8c",
   "metadata": {},
   "source": [
    "<a name = Section7></a>\n",
    "## 7. Train Test Split"
   ]
  },
  {
   "cell_type": "code",
   "execution_count": 40,
   "id": "8643f1ec",
   "metadata": {},
   "outputs": [],
   "source": [
    "from sklearn.model_selection import train_test_split"
   ]
  },
  {
   "cell_type": "code",
   "execution_count": 41,
   "id": "95e68d67",
   "metadata": {},
   "outputs": [],
   "source": [
    "\n",
    "X_train, X_test, y_train, y_test = train_test_split(X,y, test_size = 0.3, random_state = 2)"
   ]
  },
  {
   "cell_type": "code",
   "execution_count": 42,
   "id": "a3f7d404",
   "metadata": {},
   "outputs": [
    {
     "data": {
      "text/plain": [
       "(210000, 11)"
      ]
     },
     "execution_count": 42,
     "metadata": {},
     "output_type": "execute_result"
    }
   ],
   "source": [
    "X_train.shape"
   ]
  },
  {
   "cell_type": "code",
   "execution_count": 43,
   "id": "28d94aa1",
   "metadata": {},
   "outputs": [
    {
     "data": {
      "text/plain": [
       "(90000, 11)"
      ]
     },
     "execution_count": 43,
     "metadata": {},
     "output_type": "execute_result"
    }
   ],
   "source": [
    "X_test.shape"
   ]
  },
  {
   "cell_type": "code",
   "execution_count": 44,
   "id": "de9fcbb3",
   "metadata": {},
   "outputs": [
    {
     "data": {
      "text/plain": [
       "(210000,)"
      ]
     },
     "execution_count": 44,
     "metadata": {},
     "output_type": "execute_result"
    }
   ],
   "source": [
    "y_train.shape"
   ]
  },
  {
   "cell_type": "code",
   "execution_count": 45,
   "id": "2e664f47",
   "metadata": {},
   "outputs": [
    {
     "data": {
      "text/plain": [
       "(90000,)"
      ]
     },
     "execution_count": 45,
     "metadata": {},
     "output_type": "execute_result"
    }
   ],
   "source": [
    "y_test.shape"
   ]
  },
  {
   "cell_type": "code",
   "execution_count": null,
   "id": "30170016",
   "metadata": {},
   "outputs": [],
   "source": []
  },
  {
   "cell_type": "markdown",
   "id": "98ac54fe",
   "metadata": {},
   "source": [
    "<a name = Section8></a>\n",
    "\n",
    "---\n",
    "# **8. Logistic Regression**\n",
    "---\n"
   ]
  },
  {
   "cell_type": "code",
   "execution_count": 46,
   "id": "eddd2d57",
   "metadata": {},
   "outputs": [],
   "source": [
    "from sklearn.linear_model import LogisticRegression"
   ]
  },
  {
   "cell_type": "code",
   "execution_count": 47,
   "id": "2f016733",
   "metadata": {},
   "outputs": [],
   "source": [
    "lr_model = LogisticRegression()"
   ]
  },
  {
   "cell_type": "code",
   "execution_count": 48,
   "id": "c9f5fa6f",
   "metadata": {},
   "outputs": [
    {
     "data": {
      "text/plain": [
       "LogisticRegression()"
      ]
     },
     "execution_count": 48,
     "metadata": {},
     "output_type": "execute_result"
    }
   ],
   "source": [
    "lr_model.fit(X_train, y_train)"
   ]
  },
  {
   "cell_type": "code",
   "execution_count": 49,
   "id": "68e06c97",
   "metadata": {},
   "outputs": [],
   "source": [
    "lr_pred_train = lr_model.predict(X_train)"
   ]
  },
  {
   "cell_type": "code",
   "execution_count": 50,
   "id": "d263e3d1",
   "metadata": {},
   "outputs": [],
   "source": [
    "lr_pred_test = lr_model.predict(X_test)"
   ]
  },
  {
   "cell_type": "code",
   "execution_count": 51,
   "id": "b708e446",
   "metadata": {},
   "outputs": [],
   "source": [
    "from sklearn.metrics import accuracy_score"
   ]
  },
  {
   "cell_type": "code",
   "execution_count": 52,
   "id": "91e9f0df",
   "metadata": {},
   "outputs": [
    {
     "name": "stdout",
     "output_type": "stream",
     "text": [
      "Accuracy score for test data is: 0.8764555555555555\n"
     ]
    }
   ],
   "source": [
    "print('Accuracy score for test data is:', accuracy_score(y_test,lr_pred_test))"
   ]
  },
  {
   "cell_type": "code",
   "execution_count": 53,
   "id": "660412e0",
   "metadata": {},
   "outputs": [
    {
     "name": "stdout",
     "output_type": "stream",
     "text": [
      "Accuracy score for test data is: 0.8773238095238095\n"
     ]
    }
   ],
   "source": [
    "print('Accuracy score for test data is:', accuracy_score(y_train,lr_pred_train))"
   ]
  },
  {
   "cell_type": "markdown",
   "id": "340fe930",
   "metadata": {},
   "source": [
    "<a name = Section9></a>\n",
    "## 9. Random Forest Classifier"
   ]
  },
  {
   "cell_type": "code",
   "execution_count": 54,
   "id": "e8f780d0",
   "metadata": {},
   "outputs": [],
   "source": [
    "from sklearn.ensemble import RandomForestClassifier"
   ]
  },
  {
   "cell_type": "code",
   "execution_count": 55,
   "id": "bc5eae8f",
   "metadata": {},
   "outputs": [],
   "source": [
    "rf_clf = RandomForestClassifier(random_state=30, class_weight='balanced')\n",
    "rf_clf.fit(X_train, y_train)\n",
    "\n",
    "# Predicting training and testing labels\n",
    "y_train_pred_count = rf_clf.predict(X_train)\n",
    "y_test_pred_count = rf_clf.predict(X_test)"
   ]
  },
  {
   "cell_type": "code",
   "execution_count": 56,
   "id": "1028c520",
   "metadata": {},
   "outputs": [
    {
     "name": "stdout",
     "output_type": "stream",
     "text": [
      "Accuracy score for test data is: 0.8718222222222223\n"
     ]
    }
   ],
   "source": [
    "print('Accuracy score for test data is:', accuracy_score(y_test,y_test_pred_count))"
   ]
  },
  {
   "cell_type": "code",
   "execution_count": 57,
   "id": "d3fc5c27",
   "metadata": {},
   "outputs": [
    {
     "name": "stdout",
     "output_type": "stream",
     "text": [
      "Accuracy score for train data is: 0.9999857142857143\n"
     ]
    }
   ],
   "source": [
    "print('Accuracy score for train data is:', accuracy_score(y_train,y_train_pred_count))"
   ]
  },
  {
   "cell_type": "markdown",
   "id": "7ac12d57",
   "metadata": {},
   "source": [
    "<a name = Section10></a>\n",
    "### 10. K-Neighbors Classifier"
   ]
  },
  {
   "cell_type": "code",
   "execution_count": 58,
   "id": "0338b826",
   "metadata": {},
   "outputs": [
    {
     "data": {
      "text/plain": [
       "KNeighborsClassifier()"
      ]
     },
     "execution_count": 58,
     "metadata": {},
     "output_type": "execute_result"
    }
   ],
   "source": [
    "from sklearn.neighbors import KNeighborsClassifier\n",
    "\n",
    "knc_clf = KNeighborsClassifier()\n",
    "\n",
    "knc_clf.fit(X_train, y_train)"
   ]
  },
  {
   "cell_type": "code",
   "execution_count": 59,
   "id": "4965be4c",
   "metadata": {},
   "outputs": [],
   "source": [
    "knc_y_pred_train = knc_clf.predict(X_train)\n",
    "knc_y_pred_test = knc_clf.predict(X_test)"
   ]
  },
  {
   "cell_type": "code",
   "execution_count": 60,
   "id": "a3293f69",
   "metadata": {},
   "outputs": [
    {
     "name": "stdout",
     "output_type": "stream",
     "text": [
      "Accuracy score for test data is: 0.8648555555555556\n"
     ]
    }
   ],
   "source": [
    "print('Accuracy score for test data is:', accuracy_score(y_test,knc_y_pred_test))"
   ]
  },
  {
   "cell_type": "code",
   "execution_count": 61,
   "id": "6726da24",
   "metadata": {},
   "outputs": [
    {
     "name": "stdout",
     "output_type": "stream",
     "text": [
      "Accuracy score for train data is: 0.8811142857142857\n"
     ]
    }
   ],
   "source": [
    "print('Accuracy score for train data is:', accuracy_score(y_train,knc_y_pred_train))"
   ]
  },
  {
   "cell_type": "markdown",
   "id": "3119f416",
   "metadata": {},
   "source": [
    "#### The most accurate model is Logistic Regression"
   ]
  },
  {
   "cell_type": "code",
   "execution_count": 62,
   "id": "b08a32d0",
   "metadata": {},
   "outputs": [],
   "source": [
    "data_test = pd.read_csv(\"https://raw.githubusercontent.com/naveenmnav/MachineLearning/main/Basic/CrossSellPrediction/test_data.csv\")"
   ]
  },
  {
   "cell_type": "code",
   "execution_count": 63,
   "id": "84b1055a",
   "metadata": {},
   "outputs": [
    {
     "data": {
      "text/html": [
       "<div>\n",
       "<style scoped>\n",
       "    .dataframe tbody tr th:only-of-type {\n",
       "        vertical-align: middle;\n",
       "    }\n",
       "\n",
       "    .dataframe tbody tr th {\n",
       "        vertical-align: top;\n",
       "    }\n",
       "\n",
       "    .dataframe thead th {\n",
       "        text-align: right;\n",
       "    }\n",
       "</style>\n",
       "<table border=\"1\" class=\"dataframe\">\n",
       "  <thead>\n",
       "    <tr style=\"text-align: right;\">\n",
       "      <th></th>\n",
       "      <th>id</th>\n",
       "      <th>Gender</th>\n",
       "      <th>Age</th>\n",
       "      <th>Driving_License</th>\n",
       "      <th>Region_Code</th>\n",
       "      <th>Previously_Insured</th>\n",
       "      <th>Vehicle_Age</th>\n",
       "      <th>Vehicle_Damage</th>\n",
       "      <th>Annual_Premium</th>\n",
       "      <th>Policy_Sales_Channel</th>\n",
       "      <th>Vintage</th>\n",
       "    </tr>\n",
       "  </thead>\n",
       "  <tbody>\n",
       "    <tr>\n",
       "      <th>count</th>\n",
       "      <td>81109.000000</td>\n",
       "      <td>81109</td>\n",
       "      <td>81109.000000</td>\n",
       "      <td>81109.000000</td>\n",
       "      <td>81109.000000</td>\n",
       "      <td>81109.000000</td>\n",
       "      <td>81109</td>\n",
       "      <td>81109</td>\n",
       "      <td>81109.000000</td>\n",
       "      <td>81109.000000</td>\n",
       "      <td>81109.000000</td>\n",
       "    </tr>\n",
       "    <tr>\n",
       "      <th>unique</th>\n",
       "      <td>NaN</td>\n",
       "      <td>2</td>\n",
       "      <td>NaN</td>\n",
       "      <td>NaN</td>\n",
       "      <td>NaN</td>\n",
       "      <td>NaN</td>\n",
       "      <td>3</td>\n",
       "      <td>2</td>\n",
       "      <td>NaN</td>\n",
       "      <td>NaN</td>\n",
       "      <td>NaN</td>\n",
       "    </tr>\n",
       "    <tr>\n",
       "      <th>top</th>\n",
       "      <td>NaN</td>\n",
       "      <td>Male</td>\n",
       "      <td>NaN</td>\n",
       "      <td>NaN</td>\n",
       "      <td>NaN</td>\n",
       "      <td>NaN</td>\n",
       "      <td>1-2 Year</td>\n",
       "      <td>Yes</td>\n",
       "      <td>NaN</td>\n",
       "      <td>NaN</td>\n",
       "      <td>NaN</td>\n",
       "    </tr>\n",
       "    <tr>\n",
       "      <th>freq</th>\n",
       "      <td>NaN</td>\n",
       "      <td>43915</td>\n",
       "      <td>NaN</td>\n",
       "      <td>NaN</td>\n",
       "      <td>NaN</td>\n",
       "      <td>NaN</td>\n",
       "      <td>42638</td>\n",
       "      <td>40959</td>\n",
       "      <td>NaN</td>\n",
       "      <td>NaN</td>\n",
       "      <td>NaN</td>\n",
       "    </tr>\n",
       "    <tr>\n",
       "      <th>mean</th>\n",
       "      <td>340555.000000</td>\n",
       "      <td>NaN</td>\n",
       "      <td>38.847526</td>\n",
       "      <td>0.997892</td>\n",
       "      <td>26.413320</td>\n",
       "      <td>0.459185</td>\n",
       "      <td>NaN</td>\n",
       "      <td>NaN</td>\n",
       "      <td>30675.637870</td>\n",
       "      <td>111.724679</td>\n",
       "      <td>154.434514</td>\n",
       "    </tr>\n",
       "    <tr>\n",
       "      <th>std</th>\n",
       "      <td>23414.295829</td>\n",
       "      <td>NaN</td>\n",
       "      <td>15.570393</td>\n",
       "      <td>0.045868</td>\n",
       "      <td>13.220532</td>\n",
       "      <td>0.498334</td>\n",
       "      <td>NaN</td>\n",
       "      <td>NaN</td>\n",
       "      <td>17085.258257</td>\n",
       "      <td>54.433184</td>\n",
       "      <td>83.773828</td>\n",
       "    </tr>\n",
       "    <tr>\n",
       "      <th>min</th>\n",
       "      <td>300001.000000</td>\n",
       "      <td>NaN</td>\n",
       "      <td>20.000000</td>\n",
       "      <td>0.000000</td>\n",
       "      <td>0.000000</td>\n",
       "      <td>0.000000</td>\n",
       "      <td>NaN</td>\n",
       "      <td>NaN</td>\n",
       "      <td>2630.000000</td>\n",
       "      <td>1.000000</td>\n",
       "      <td>10.000000</td>\n",
       "    </tr>\n",
       "    <tr>\n",
       "      <th>25%</th>\n",
       "      <td>320278.000000</td>\n",
       "      <td>NaN</td>\n",
       "      <td>25.000000</td>\n",
       "      <td>1.000000</td>\n",
       "      <td>15.000000</td>\n",
       "      <td>0.000000</td>\n",
       "      <td>NaN</td>\n",
       "      <td>NaN</td>\n",
       "      <td>24462.000000</td>\n",
       "      <td>26.000000</td>\n",
       "      <td>82.000000</td>\n",
       "    </tr>\n",
       "    <tr>\n",
       "      <th>50%</th>\n",
       "      <td>340555.000000</td>\n",
       "      <td>NaN</td>\n",
       "      <td>36.000000</td>\n",
       "      <td>1.000000</td>\n",
       "      <td>28.000000</td>\n",
       "      <td>0.000000</td>\n",
       "      <td>NaN</td>\n",
       "      <td>NaN</td>\n",
       "      <td>31761.000000</td>\n",
       "      <td>133.000000</td>\n",
       "      <td>155.000000</td>\n",
       "    </tr>\n",
       "    <tr>\n",
       "      <th>75%</th>\n",
       "      <td>360832.000000</td>\n",
       "      <td>NaN</td>\n",
       "      <td>50.000000</td>\n",
       "      <td>1.000000</td>\n",
       "      <td>35.000000</td>\n",
       "      <td>1.000000</td>\n",
       "      <td>NaN</td>\n",
       "      <td>NaN</td>\n",
       "      <td>39560.000000</td>\n",
       "      <td>152.000000</td>\n",
       "      <td>227.000000</td>\n",
       "    </tr>\n",
       "    <tr>\n",
       "      <th>max</th>\n",
       "      <td>381109.000000</td>\n",
       "      <td>NaN</td>\n",
       "      <td>85.000000</td>\n",
       "      <td>1.000000</td>\n",
       "      <td>52.000000</td>\n",
       "      <td>1.000000</td>\n",
       "      <td>NaN</td>\n",
       "      <td>NaN</td>\n",
       "      <td>495106.000000</td>\n",
       "      <td>163.000000</td>\n",
       "      <td>299.000000</td>\n",
       "    </tr>\n",
       "  </tbody>\n",
       "</table>\n",
       "</div>"
      ],
      "text/plain": [
       "                   id Gender           Age  Driving_License   Region_Code  \\\n",
       "count    81109.000000  81109  81109.000000     81109.000000  81109.000000   \n",
       "unique            NaN      2           NaN              NaN           NaN   \n",
       "top               NaN   Male           NaN              NaN           NaN   \n",
       "freq              NaN  43915           NaN              NaN           NaN   \n",
       "mean    340555.000000    NaN     38.847526         0.997892     26.413320   \n",
       "std      23414.295829    NaN     15.570393         0.045868     13.220532   \n",
       "min     300001.000000    NaN     20.000000         0.000000      0.000000   \n",
       "25%     320278.000000    NaN     25.000000         1.000000     15.000000   \n",
       "50%     340555.000000    NaN     36.000000         1.000000     28.000000   \n",
       "75%     360832.000000    NaN     50.000000         1.000000     35.000000   \n",
       "max     381109.000000    NaN     85.000000         1.000000     52.000000   \n",
       "\n",
       "        Previously_Insured Vehicle_Age Vehicle_Damage  Annual_Premium  \\\n",
       "count         81109.000000       81109          81109    81109.000000   \n",
       "unique                 NaN           3              2             NaN   \n",
       "top                    NaN    1-2 Year            Yes             NaN   \n",
       "freq                   NaN       42638          40959             NaN   \n",
       "mean              0.459185         NaN            NaN    30675.637870   \n",
       "std               0.498334         NaN            NaN    17085.258257   \n",
       "min               0.000000         NaN            NaN     2630.000000   \n",
       "25%               0.000000         NaN            NaN    24462.000000   \n",
       "50%               0.000000         NaN            NaN    31761.000000   \n",
       "75%               1.000000         NaN            NaN    39560.000000   \n",
       "max               1.000000         NaN            NaN   495106.000000   \n",
       "\n",
       "        Policy_Sales_Channel       Vintage  \n",
       "count           81109.000000  81109.000000  \n",
       "unique                   NaN           NaN  \n",
       "top                      NaN           NaN  \n",
       "freq                     NaN           NaN  \n",
       "mean              111.724679    154.434514  \n",
       "std                54.433184     83.773828  \n",
       "min                 1.000000     10.000000  \n",
       "25%                26.000000     82.000000  \n",
       "50%               133.000000    155.000000  \n",
       "75%               152.000000    227.000000  \n",
       "max               163.000000    299.000000  "
      ]
     },
     "execution_count": 63,
     "metadata": {},
     "output_type": "execute_result"
    }
   ],
   "source": [
    "data_test.describe(include='all')"
   ]
  },
  {
   "cell_type": "code",
   "execution_count": 64,
   "id": "ad72a783",
   "metadata": {},
   "outputs": [
    {
     "name": "stdout",
     "output_type": "stream",
     "text": [
      "<class 'pandas.core.frame.DataFrame'>\n",
      "RangeIndex: 81109 entries, 0 to 81108\n",
      "Data columns (total 11 columns):\n",
      " #   Column                Non-Null Count  Dtype  \n",
      "---  ------                --------------  -----  \n",
      " 0   id                    81109 non-null  int64  \n",
      " 1   Gender                81109 non-null  object \n",
      " 2   Age                   81109 non-null  int64  \n",
      " 3   Driving_License       81109 non-null  int64  \n",
      " 4   Region_Code           81109 non-null  float64\n",
      " 5   Previously_Insured    81109 non-null  int64  \n",
      " 6   Vehicle_Age           81109 non-null  object \n",
      " 7   Vehicle_Damage        81109 non-null  object \n",
      " 8   Annual_Premium        81109 non-null  float64\n",
      " 9   Policy_Sales_Channel  81109 non-null  float64\n",
      " 10  Vintage               81109 non-null  int64  \n",
      "dtypes: float64(3), int64(5), object(3)\n",
      "memory usage: 6.8+ MB\n"
     ]
    }
   ],
   "source": [
    "data_test.info()"
   ]
  },
  {
   "cell_type": "code",
   "execution_count": 65,
   "id": "eb715336",
   "metadata": {},
   "outputs": [],
   "source": [
    "data_test.replace({'Gender':{'Male':0, 'Female':1}}, inplace = True)\n",
    "\n",
    "data_test.replace({'Vehicle_Age':{'1-2 Year':0, '< 1 Year':1, '> 2 Years':2}}, inplace = True)\n",
    "\n",
    "data_test.replace({'Vehicle_Damage':{'Yes':0, 'No':1}}, inplace = True)\n"
   ]
  },
  {
   "cell_type": "code",
   "execution_count": 66,
   "id": "7b8352e2",
   "metadata": {},
   "outputs": [
    {
     "name": "stdout",
     "output_type": "stream",
     "text": [
      "<class 'pandas.core.frame.DataFrame'>\n",
      "RangeIndex: 81109 entries, 0 to 81108\n",
      "Data columns (total 11 columns):\n",
      " #   Column                Non-Null Count  Dtype  \n",
      "---  ------                --------------  -----  \n",
      " 0   id                    81109 non-null  int64  \n",
      " 1   Gender                81109 non-null  int64  \n",
      " 2   Age                   81109 non-null  int64  \n",
      " 3   Driving_License       81109 non-null  int64  \n",
      " 4   Region_Code           81109 non-null  float64\n",
      " 5   Previously_Insured    81109 non-null  int64  \n",
      " 6   Vehicle_Age           81109 non-null  int64  \n",
      " 7   Vehicle_Damage        81109 non-null  int64  \n",
      " 8   Annual_Premium        81109 non-null  float64\n",
      " 9   Policy_Sales_Channel  81109 non-null  float64\n",
      " 10  Vintage               81109 non-null  int64  \n",
      "dtypes: float64(3), int64(8)\n",
      "memory usage: 6.8 MB\n"
     ]
    }
   ],
   "source": [
    "data_test.info()"
   ]
  },
  {
   "cell_type": "code",
   "execution_count": 67,
   "id": "2a7db743",
   "metadata": {},
   "outputs": [],
   "source": [
    "y_unseen_pred = lr_model.predict(data_test)"
   ]
  },
  {
   "cell_type": "code",
   "execution_count": 68,
   "id": "c9b5acd0",
   "metadata": {},
   "outputs": [
    {
     "data": {
      "text/plain": [
       "(81109,)"
      ]
     },
     "execution_count": 68,
     "metadata": {},
     "output_type": "execute_result"
    }
   ],
   "source": [
    "y_unseen_pred.shape"
   ]
  },
  {
   "cell_type": "code",
   "execution_count": 69,
   "id": "83960f94",
   "metadata": {},
   "outputs": [],
   "source": [
    "y_unseen_pred_series = pd.Series(y_unseen_pred)"
   ]
  },
  {
   "cell_type": "code",
   "execution_count": 70,
   "id": "99382e7f",
   "metadata": {},
   "outputs": [],
   "source": [
    "y_unseen_pred_df = pd.DataFrame(y_unseen_pred_series)"
   ]
  },
  {
   "cell_type": "code",
   "execution_count": 71,
   "id": "e0013d08",
   "metadata": {},
   "outputs": [
    {
     "data": {
      "text/plain": [
       "0    263119\n",
       "1     36881\n",
       "Name: Response, dtype: int64"
      ]
     },
     "execution_count": 71,
     "metadata": {},
     "output_type": "execute_result"
    }
   ],
   "source": [
    "dataset['Response'].value_counts()"
   ]
  },
  {
   "cell_type": "code",
   "execution_count": 72,
   "id": "7ebba666",
   "metadata": {},
   "outputs": [
    {
     "data": {
      "text/html": [
       "<div>\n",
       "<style scoped>\n",
       "    .dataframe tbody tr th:only-of-type {\n",
       "        vertical-align: middle;\n",
       "    }\n",
       "\n",
       "    .dataframe tbody tr th {\n",
       "        vertical-align: top;\n",
       "    }\n",
       "\n",
       "    .dataframe thead th {\n",
       "        text-align: right;\n",
       "    }\n",
       "</style>\n",
       "<table border=\"1\" class=\"dataframe\">\n",
       "  <thead>\n",
       "    <tr style=\"text-align: right;\">\n",
       "      <th></th>\n",
       "      <th>id</th>\n",
       "      <th>Gender</th>\n",
       "      <th>Age</th>\n",
       "      <th>Driving_License</th>\n",
       "      <th>Region_Code</th>\n",
       "      <th>Previously_Insured</th>\n",
       "      <th>Vehicle_Age</th>\n",
       "      <th>Vehicle_Damage</th>\n",
       "      <th>Annual_Premium</th>\n",
       "      <th>Policy_Sales_Channel</th>\n",
       "      <th>Vintage</th>\n",
       "      <th>Response</th>\n",
       "    </tr>\n",
       "  </thead>\n",
       "  <tbody>\n",
       "    <tr>\n",
       "      <th>id</th>\n",
       "      <td>1.000000</td>\n",
       "      <td>-0.001276</td>\n",
       "      <td>0.001351</td>\n",
       "      <td>-0.001214</td>\n",
       "      <td>-0.001590</td>\n",
       "      <td>0.002779</td>\n",
       "      <td>-0.001915</td>\n",
       "      <td>0.002823</td>\n",
       "      <td>0.001183</td>\n",
       "      <td>-0.000872</td>\n",
       "      <td>-0.001208</td>\n",
       "      <td>0.000681</td>\n",
       "    </tr>\n",
       "    <tr>\n",
       "      <th>Gender</th>\n",
       "      <td>-0.001276</td>\n",
       "      <td>1.000000</td>\n",
       "      <td>-0.145201</td>\n",
       "      <td>0.018033</td>\n",
       "      <td>0.000726</td>\n",
       "      <td>0.080161</td>\n",
       "      <td>0.113333</td>\n",
       "      <td>0.089847</td>\n",
       "      <td>-0.002983</td>\n",
       "      <td>0.110602</td>\n",
       "      <td>0.001455</td>\n",
       "      <td>-0.051981</td>\n",
       "    </tr>\n",
       "    <tr>\n",
       "      <th>Age</th>\n",
       "      <td>0.001351</td>\n",
       "      <td>-0.145201</td>\n",
       "      <td>1.000000</td>\n",
       "      <td>-0.079920</td>\n",
       "      <td>0.042627</td>\n",
       "      <td>-0.254640</td>\n",
       "      <td>-0.522076</td>\n",
       "      <td>-0.267059</td>\n",
       "      <td>0.066565</td>\n",
       "      <td>-0.576893</td>\n",
       "      <td>0.000817</td>\n",
       "      <td>0.110922</td>\n",
       "    </tr>\n",
       "    <tr>\n",
       "      <th>Driving_License</th>\n",
       "      <td>-0.001214</td>\n",
       "      <td>0.018033</td>\n",
       "      <td>-0.079920</td>\n",
       "      <td>1.000000</td>\n",
       "      <td>-0.001555</td>\n",
       "      <td>0.014568</td>\n",
       "      <td>0.029992</td>\n",
       "      <td>0.015795</td>\n",
       "      <td>-0.011593</td>\n",
       "      <td>0.043951</td>\n",
       "      <td>-0.000482</td>\n",
       "      <td>0.009850</td>\n",
       "    </tr>\n",
       "    <tr>\n",
       "      <th>Region_Code</th>\n",
       "      <td>-0.001590</td>\n",
       "      <td>0.000726</td>\n",
       "      <td>0.042627</td>\n",
       "      <td>-0.001555</td>\n",
       "      <td>1.000000</td>\n",
       "      <td>-0.024411</td>\n",
       "      <td>-0.027852</td>\n",
       "      <td>-0.028716</td>\n",
       "      <td>-0.010025</td>\n",
       "      <td>-0.042550</td>\n",
       "      <td>-0.002597</td>\n",
       "      <td>0.009845</td>\n",
       "    </tr>\n",
       "    <tr>\n",
       "      <th>Previously_Insured</th>\n",
       "      <td>0.002779</td>\n",
       "      <td>0.080161</td>\n",
       "      <td>-0.254640</td>\n",
       "      <td>0.014568</td>\n",
       "      <td>-0.024411</td>\n",
       "      <td>1.000000</td>\n",
       "      <td>0.174261</td>\n",
       "      <td>0.824224</td>\n",
       "      <td>0.005007</td>\n",
       "      <td>0.219195</td>\n",
       "      <td>0.000624</td>\n",
       "      <td>-0.341534</td>\n",
       "    </tr>\n",
       "    <tr>\n",
       "      <th>Vehicle_Age</th>\n",
       "      <td>-0.001915</td>\n",
       "      <td>0.113333</td>\n",
       "      <td>-0.522076</td>\n",
       "      <td>0.029992</td>\n",
       "      <td>-0.027852</td>\n",
       "      <td>0.174261</td>\n",
       "      <td>1.000000</td>\n",
       "      <td>0.173159</td>\n",
       "      <td>0.024840</td>\n",
       "      <td>0.386406</td>\n",
       "      <td>-0.000065</td>\n",
       "      <td>-0.104125</td>\n",
       "    </tr>\n",
       "    <tr>\n",
       "      <th>Vehicle_Damage</th>\n",
       "      <td>0.002823</td>\n",
       "      <td>0.089847</td>\n",
       "      <td>-0.267059</td>\n",
       "      <td>0.015795</td>\n",
       "      <td>-0.028716</td>\n",
       "      <td>0.824224</td>\n",
       "      <td>0.173159</td>\n",
       "      <td>1.000000</td>\n",
       "      <td>-0.009639</td>\n",
       "      <td>0.224012</td>\n",
       "      <td>0.000136</td>\n",
       "      <td>-0.354638</td>\n",
       "    </tr>\n",
       "    <tr>\n",
       "      <th>Annual_Premium</th>\n",
       "      <td>0.001183</td>\n",
       "      <td>-0.002983</td>\n",
       "      <td>0.066565</td>\n",
       "      <td>-0.011593</td>\n",
       "      <td>-0.010025</td>\n",
       "      <td>0.005007</td>\n",
       "      <td>0.024840</td>\n",
       "      <td>-0.009639</td>\n",
       "      <td>1.000000</td>\n",
       "      <td>-0.112268</td>\n",
       "      <td>0.000890</td>\n",
       "      <td>0.023209</td>\n",
       "    </tr>\n",
       "    <tr>\n",
       "      <th>Policy_Sales_Channel</th>\n",
       "      <td>-0.000872</td>\n",
       "      <td>0.110602</td>\n",
       "      <td>-0.576893</td>\n",
       "      <td>0.043951</td>\n",
       "      <td>-0.042550</td>\n",
       "      <td>0.219195</td>\n",
       "      <td>0.386406</td>\n",
       "      <td>0.224012</td>\n",
       "      <td>-0.112268</td>\n",
       "      <td>1.000000</td>\n",
       "      <td>-0.002438</td>\n",
       "      <td>-0.140574</td>\n",
       "    </tr>\n",
       "    <tr>\n",
       "      <th>Vintage</th>\n",
       "      <td>-0.001208</td>\n",
       "      <td>0.001455</td>\n",
       "      <td>0.000817</td>\n",
       "      <td>-0.000482</td>\n",
       "      <td>-0.002597</td>\n",
       "      <td>0.000624</td>\n",
       "      <td>-0.000065</td>\n",
       "      <td>0.000136</td>\n",
       "      <td>0.000890</td>\n",
       "      <td>-0.002438</td>\n",
       "      <td>1.000000</td>\n",
       "      <td>-0.000913</td>\n",
       "    </tr>\n",
       "    <tr>\n",
       "      <th>Response</th>\n",
       "      <td>0.000681</td>\n",
       "      <td>-0.051981</td>\n",
       "      <td>0.110922</td>\n",
       "      <td>0.009850</td>\n",
       "      <td>0.009845</td>\n",
       "      <td>-0.341534</td>\n",
       "      <td>-0.104125</td>\n",
       "      <td>-0.354638</td>\n",
       "      <td>0.023209</td>\n",
       "      <td>-0.140574</td>\n",
       "      <td>-0.000913</td>\n",
       "      <td>1.000000</td>\n",
       "    </tr>\n",
       "  </tbody>\n",
       "</table>\n",
       "</div>"
      ],
      "text/plain": [
       "                            id    Gender       Age  Driving_License  \\\n",
       "id                    1.000000 -0.001276  0.001351        -0.001214   \n",
       "Gender               -0.001276  1.000000 -0.145201         0.018033   \n",
       "Age                   0.001351 -0.145201  1.000000        -0.079920   \n",
       "Driving_License      -0.001214  0.018033 -0.079920         1.000000   \n",
       "Region_Code          -0.001590  0.000726  0.042627        -0.001555   \n",
       "Previously_Insured    0.002779  0.080161 -0.254640         0.014568   \n",
       "Vehicle_Age          -0.001915  0.113333 -0.522076         0.029992   \n",
       "Vehicle_Damage        0.002823  0.089847 -0.267059         0.015795   \n",
       "Annual_Premium        0.001183 -0.002983  0.066565        -0.011593   \n",
       "Policy_Sales_Channel -0.000872  0.110602 -0.576893         0.043951   \n",
       "Vintage              -0.001208  0.001455  0.000817        -0.000482   \n",
       "Response              0.000681 -0.051981  0.110922         0.009850   \n",
       "\n",
       "                      Region_Code  Previously_Insured  Vehicle_Age  \\\n",
       "id                      -0.001590            0.002779    -0.001915   \n",
       "Gender                   0.000726            0.080161     0.113333   \n",
       "Age                      0.042627           -0.254640    -0.522076   \n",
       "Driving_License         -0.001555            0.014568     0.029992   \n",
       "Region_Code              1.000000           -0.024411    -0.027852   \n",
       "Previously_Insured      -0.024411            1.000000     0.174261   \n",
       "Vehicle_Age             -0.027852            0.174261     1.000000   \n",
       "Vehicle_Damage          -0.028716            0.824224     0.173159   \n",
       "Annual_Premium          -0.010025            0.005007     0.024840   \n",
       "Policy_Sales_Channel    -0.042550            0.219195     0.386406   \n",
       "Vintage                 -0.002597            0.000624    -0.000065   \n",
       "Response                 0.009845           -0.341534    -0.104125   \n",
       "\n",
       "                      Vehicle_Damage  Annual_Premium  Policy_Sales_Channel  \\\n",
       "id                          0.002823        0.001183             -0.000872   \n",
       "Gender                      0.089847       -0.002983              0.110602   \n",
       "Age                        -0.267059        0.066565             -0.576893   \n",
       "Driving_License             0.015795       -0.011593              0.043951   \n",
       "Region_Code                -0.028716       -0.010025             -0.042550   \n",
       "Previously_Insured          0.824224        0.005007              0.219195   \n",
       "Vehicle_Age                 0.173159        0.024840              0.386406   \n",
       "Vehicle_Damage              1.000000       -0.009639              0.224012   \n",
       "Annual_Premium             -0.009639        1.000000             -0.112268   \n",
       "Policy_Sales_Channel        0.224012       -0.112268              1.000000   \n",
       "Vintage                     0.000136        0.000890             -0.002438   \n",
       "Response                   -0.354638        0.023209             -0.140574   \n",
       "\n",
       "                       Vintage  Response  \n",
       "id                   -0.001208  0.000681  \n",
       "Gender                0.001455 -0.051981  \n",
       "Age                   0.000817  0.110922  \n",
       "Driving_License      -0.000482  0.009850  \n",
       "Region_Code          -0.002597  0.009845  \n",
       "Previously_Insured    0.000624 -0.341534  \n",
       "Vehicle_Age          -0.000065 -0.104125  \n",
       "Vehicle_Damage        0.000136 -0.354638  \n",
       "Annual_Premium        0.000890  0.023209  \n",
       "Policy_Sales_Channel -0.002438 -0.140574  \n",
       "Vintage               1.000000 -0.000913  \n",
       "Response             -0.000913  1.000000  "
      ]
     },
     "execution_count": 72,
     "metadata": {},
     "output_type": "execute_result"
    }
   ],
   "source": [
    "dataset.corr()"
   ]
  },
  {
   "cell_type": "code",
   "execution_count": 76,
   "id": "28d5cfe9",
   "metadata": {},
   "outputs": [
    {
     "data": {
      "text/plain": [
       "array([0, 0, 0, ..., 0, 0, 0], dtype=int64)"
      ]
     },
     "execution_count": 76,
     "metadata": {},
     "output_type": "execute_result"
    }
   ],
   "source": [
    "y_unseen_pred"
   ]
  },
  {
   "cell_type": "code",
   "execution_count": 77,
   "id": "a0940ed9",
   "metadata": {},
   "outputs": [],
   "source": [
    "submission = pd.DataFrame({'Id':data_test['id'],'winner':y_unseen_pred_df[0]})"
   ]
  },
  {
   "cell_type": "code",
   "execution_count": 78,
   "id": "8baafa7c",
   "metadata": {},
   "outputs": [],
   "source": [
    "submission.to_csv('submission.csv', index=False, header=False)"
   ]
  },
  {
   "cell_type": "code",
   "execution_count": null,
   "id": "6cb248b1",
   "metadata": {},
   "outputs": [],
   "source": []
  }
 ],
 "metadata": {
  "kernelspec": {
   "display_name": "Python 3 (ipykernel)",
   "language": "python",
   "name": "python3"
  },
  "language_info": {
   "codemirror_mode": {
    "name": "ipython",
    "version": 3
   },
   "file_extension": ".py",
   "mimetype": "text/x-python",
   "name": "python",
   "nbconvert_exporter": "python",
   "pygments_lexer": "ipython3",
   "version": "3.7.8"
  }
 },
 "nbformat": 4,
 "nbformat_minor": 5
}
